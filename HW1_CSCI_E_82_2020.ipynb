{
  "nbformat": 4,
  "nbformat_minor": 0,
  "metadata": {
    "hide_input": false,
    "kernelspec": {
      "display_name": "Python 3",
      "language": "python",
      "name": "python3"
    },
    "language_info": {
      "codemirror_mode": {
        "name": "ipython",
        "version": 3
      },
      "file_extension": ".py",
      "mimetype": "text/x-python",
      "name": "python",
      "nbconvert_exporter": "python",
      "pygments_lexer": "ipython3",
      "version": "3.7.6"
    },
    "toc": {
      "base_numbering": 1,
      "nav_menu": {},
      "number_sections": false,
      "sideBar": false,
      "skip_h1_title": true,
      "title_cell": "Table of Contents",
      "title_sidebar": "Contents",
      "toc_cell": false,
      "toc_position": {},
      "toc_section_display": true,
      "toc_window_display": false
    },
    "colab": {
      "name": "HW1 CSCI E-82 2020.ipynb",
      "provenance": [],
      "include_colab_link": true
    }
  },
  "cells": [
    {
      "cell_type": "markdown",
      "metadata": {
        "id": "view-in-github",
        "colab_type": "text"
      },
      "source": [
        "<a href=\"https://colab.research.google.com/github/raknampuna/csci-82_Fall2020/blob/master/HW1_CSCI_E_82_2020.ipynb\" target=\"_parent\"><img src=\"https://colab.research.google.com/assets/colab-badge.svg\" alt=\"Open In Colab\"/></a>"
      ]
    },
    {
      "cell_type": "markdown",
      "metadata": {
        "id": "UUF1p4xxkH5X",
        "colab_type": "text"
      },
      "source": [
        "## <center>CSCI E-82</center>\n",
        "## <center>HW 1  Dimensionality Reduction</center>\n",
        "### <center>Due: Monday Sept 14, 2020 11:59pm EST</center>\n",
        "\n",
        "### Note that this is an individual homework to be completed without collaborations except through Piazza.  \n",
        "\n"
      ]
    },
    {
      "cell_type": "markdown",
      "metadata": {
        "id": "-sr3DPpDkH5Y",
        "colab_type": "text"
      },
      "source": [
        "### Your name: Anup Mankar"
      ]
    },
    {
      "cell_type": "markdown",
      "metadata": {
        "id": "j9tDWgYekH5Y",
        "colab_type": "text"
      },
      "source": [
        ""
      ]
    },
    {
      "cell_type": "code",
      "metadata": {
        "id": "NOB5oRB0kH5Y",
        "colab_type": "code",
        "colab": {}
      },
      "source": [
        "import pandas as pd\n",
        "import numpy as np\n",
        "import sklearn\n",
        "from sklearn import decomposition, preprocessing\n",
        "from matplotlib.colors import LinearSegmentedColormap\n",
        "from mpl_toolkits.mplot3d import Axes3D\n",
        "import matplotlib.pyplot as plt\n",
        "import seaborn as sns\n",
        "from sklearn.cluster import KMeans\n",
        "from matplotlib.colors import ListedColormap\n",
        "import umap #pip install umap-learn\n",
        "\n",
        "dark2_colors = ['#1b9e77','#d95f02','#7570b3','#e7298a','#66a61e','#e6ab02','#a6761d','#666666']\n",
        "dark2_cmap = ListedColormap(dark2_colors)\n",
        "shade_black = '#262626'"
      ],
      "execution_count": null,
      "outputs": []
    },
    {
      "cell_type": "markdown",
      "metadata": {
        "id": "6Zg-CyvNkH5c",
        "colab_type": "text"
      },
      "source": [
        "## Problem 1 Python Linear Algebra  (5 points total)\n",
        "\n",
        "$$\\mathbf{X} = \\left[\\begin{array}\n",
        "{rrr}\n",
        "1 & 2 & 3 \\\\\n",
        "4 & 5 & 7 \\\\\n",
        "8 & 10 & 12\n",
        "\\end{array}\\right]\n",
        "$$\n",
        "\n",
        "$$\\mathbf{Y} = \\left[\\begin{array}\n",
        "{rrr}\n",
        "1 & 2 & 1 \\\\\n",
        "0 & 0 & 0 \\\\\n",
        "-1 & -2 & -1  \n",
        "\\end{array}\\right]\n",
        "$$\n",
        "\n",
        "### Problem 1a (3 points)\n",
        "Compute YX<sup>T</sup> using any python approach.  We recommend np.array math, but the choice is yours.\n"
      ]
    },
    {
      "cell_type": "code",
      "metadata": {
        "id": "c_4ZKLzZkH5c",
        "colab_type": "code",
        "colab": {}
      },
      "source": [
        "X = np.array([[1,2,3],[4,5,7],[8,10,12]])\n",
        "Y = np.array([[1,2,1],[0,0,0],[-1,-2,-1]])"
      ],
      "execution_count": null,
      "outputs": []
    },
    {
      "cell_type": "code",
      "metadata": {
        "id": "pf0Fuv5OkH5d",
        "colab_type": "code",
        "colab": {},
        "outputId": "b6a46f1a-1fdc-4a01-e27b-9d621b49972b"
      },
      "source": [
        "X_t = np.transpose(X)\n",
        "X_t"
      ],
      "execution_count": null,
      "outputs": [
        {
          "output_type": "execute_result",
          "data": {
            "text/plain": [
              "array([[ 1,  4,  8],\n",
              "       [ 2,  5, 10],\n",
              "       [ 3,  7, 12]])"
            ]
          },
          "metadata": {
            "tags": []
          },
          "execution_count": 3
        }
      ]
    },
    {
      "cell_type": "code",
      "metadata": {
        "id": "g27fbhkakH5i",
        "colab_type": "code",
        "colab": {},
        "outputId": "330f3c6b-30f0-448f-8b65-fce3d90623dd"
      },
      "source": [
        "np.matmul(Y,X_t)"
      ],
      "execution_count": null,
      "outputs": [
        {
          "output_type": "execute_result",
          "data": {
            "text/plain": [
              "array([[  8,  21,  40],\n",
              "       [  0,   0,   0],\n",
              "       [ -8, -21, -40]])"
            ]
          },
          "metadata": {
            "tags": []
          },
          "execution_count": 4
        }
      ]
    },
    {
      "cell_type": "markdown",
      "metadata": {
        "id": "6ck_kdn-kH5m",
        "colab_type": "text"
      },
      "source": [
        "### Problem 1b (2 points)\n",
        "\n",
        "Compute X<sup>-1</sup>, the inverse of X.  Again, use a python library for this.  You don't need to do anything manually."
      ]
    },
    {
      "cell_type": "code",
      "metadata": {
        "id": "bg0PQ8ufkH5m",
        "colab_type": "code",
        "colab": {},
        "outputId": "c61e52e1-49ee-4cf9-d300-37ddd9ec3783"
      },
      "source": [
        "np.linalg.inv(X)"
      ],
      "execution_count": null,
      "outputs": [
        {
          "output_type": "execute_result",
          "data": {
            "text/plain": [
              "array([[-1.66666667,  1.        , -0.16666667],\n",
              "       [ 1.33333333, -2.        ,  0.83333333],\n",
              "       [ 0.        ,  1.        , -0.5       ]])"
            ]
          },
          "metadata": {
            "tags": []
          },
          "execution_count": 5
        }
      ]
    },
    {
      "cell_type": "markdown",
      "metadata": {
        "id": "omku_vSKkH5n",
        "colab_type": "text"
      },
      "source": [
        "## Problem 2  PCA (40 points total)\n",
        "\n",
        "This problem goes through a combination of python data manipulations as well as the full math projection using PCA.  We have divided the problem into multiple parts.\n",
        "\n"
      ]
    },
    {
      "cell_type": "markdown",
      "metadata": {
        "id": "SSlsRNs7kH5n",
        "colab_type": "text"
      },
      "source": [
        "### Problem 2a  (5 points)\n",
        "\n",
        "Download and load in the data set from the UCI archive https://archive.ics.uci.edu/ml/machine-learning-databases/ecoli/.  Print the dimensions and the first few rows to demonstrate a successful load.  You don't need to print out the full matrix but show the dimensions and perhaps the first rows."
      ]
    },
    {
      "cell_type": "code",
      "metadata": {
        "id": "w-zvMiIbkH5o",
        "colab_type": "code",
        "colab": {}
      },
      "source": [
        "head_names = [\"Sequence Name\",\"mcg\",\"gvh\",\"lip\",\"chg\",\"aac\",\"alm1\",\"alm2\",\"last\"]"
      ],
      "execution_count": null,
      "outputs": []
    },
    {
      "cell_type": "code",
      "metadata": {
        "scrolled": true,
        "id": "-iCG7KXxkH5p",
        "colab_type": "code",
        "colab": {},
        "outputId": "b26380ce-2903-44f1-8e71-168c1180104b"
      },
      "source": [
        "col_names = [\"mcg\",\"gvh\",\"lip\",\"chg\",\"aac\",\"alm1\",\"alm2\"]\n",
        "ecoli = pd.read_csv(\"ecoli.data\",header=None,delim_whitespace=True)\n",
        "ecoli\n"
      ],
      "execution_count": null,
      "outputs": [
        {
          "output_type": "execute_result",
          "data": {
            "text/html": [
              "<div>\n",
              "<style scoped>\n",
              "    .dataframe tbody tr th:only-of-type {\n",
              "        vertical-align: middle;\n",
              "    }\n",
              "\n",
              "    .dataframe tbody tr th {\n",
              "        vertical-align: top;\n",
              "    }\n",
              "\n",
              "    .dataframe thead th {\n",
              "        text-align: right;\n",
              "    }\n",
              "</style>\n",
              "<table border=\"1\" class=\"dataframe\">\n",
              "  <thead>\n",
              "    <tr style=\"text-align: right;\">\n",
              "      <th></th>\n",
              "      <th>0</th>\n",
              "      <th>1</th>\n",
              "      <th>2</th>\n",
              "      <th>3</th>\n",
              "      <th>4</th>\n",
              "      <th>5</th>\n",
              "      <th>6</th>\n",
              "      <th>7</th>\n",
              "      <th>8</th>\n",
              "    </tr>\n",
              "  </thead>\n",
              "  <tbody>\n",
              "    <tr>\n",
              "      <th>0</th>\n",
              "      <td>AAT_ECOLI</td>\n",
              "      <td>0.49</td>\n",
              "      <td>0.29</td>\n",
              "      <td>0.48</td>\n",
              "      <td>0.5</td>\n",
              "      <td>0.56</td>\n",
              "      <td>0.24</td>\n",
              "      <td>0.35</td>\n",
              "      <td>cp</td>\n",
              "    </tr>\n",
              "    <tr>\n",
              "      <th>1</th>\n",
              "      <td>ACEA_ECOLI</td>\n",
              "      <td>0.07</td>\n",
              "      <td>0.40</td>\n",
              "      <td>0.48</td>\n",
              "      <td>0.5</td>\n",
              "      <td>0.54</td>\n",
              "      <td>0.35</td>\n",
              "      <td>0.44</td>\n",
              "      <td>cp</td>\n",
              "    </tr>\n",
              "    <tr>\n",
              "      <th>2</th>\n",
              "      <td>ACEK_ECOLI</td>\n",
              "      <td>0.56</td>\n",
              "      <td>0.40</td>\n",
              "      <td>0.48</td>\n",
              "      <td>0.5</td>\n",
              "      <td>0.49</td>\n",
              "      <td>0.37</td>\n",
              "      <td>0.46</td>\n",
              "      <td>cp</td>\n",
              "    </tr>\n",
              "    <tr>\n",
              "      <th>3</th>\n",
              "      <td>ACKA_ECOLI</td>\n",
              "      <td>0.59</td>\n",
              "      <td>0.49</td>\n",
              "      <td>0.48</td>\n",
              "      <td>0.5</td>\n",
              "      <td>0.52</td>\n",
              "      <td>0.45</td>\n",
              "      <td>0.36</td>\n",
              "      <td>cp</td>\n",
              "    </tr>\n",
              "    <tr>\n",
              "      <th>4</th>\n",
              "      <td>ADI_ECOLI</td>\n",
              "      <td>0.23</td>\n",
              "      <td>0.32</td>\n",
              "      <td>0.48</td>\n",
              "      <td>0.5</td>\n",
              "      <td>0.55</td>\n",
              "      <td>0.25</td>\n",
              "      <td>0.35</td>\n",
              "      <td>cp</td>\n",
              "    </tr>\n",
              "    <tr>\n",
              "      <th>...</th>\n",
              "      <td>...</td>\n",
              "      <td>...</td>\n",
              "      <td>...</td>\n",
              "      <td>...</td>\n",
              "      <td>...</td>\n",
              "      <td>...</td>\n",
              "      <td>...</td>\n",
              "      <td>...</td>\n",
              "      <td>...</td>\n",
              "    </tr>\n",
              "    <tr>\n",
              "      <th>331</th>\n",
              "      <td>TREA_ECOLI</td>\n",
              "      <td>0.74</td>\n",
              "      <td>0.56</td>\n",
              "      <td>0.48</td>\n",
              "      <td>0.5</td>\n",
              "      <td>0.47</td>\n",
              "      <td>0.68</td>\n",
              "      <td>0.30</td>\n",
              "      <td>pp</td>\n",
              "    </tr>\n",
              "    <tr>\n",
              "      <th>332</th>\n",
              "      <td>UGPB_ECOLI</td>\n",
              "      <td>0.71</td>\n",
              "      <td>0.57</td>\n",
              "      <td>0.48</td>\n",
              "      <td>0.5</td>\n",
              "      <td>0.48</td>\n",
              "      <td>0.35</td>\n",
              "      <td>0.32</td>\n",
              "      <td>pp</td>\n",
              "    </tr>\n",
              "    <tr>\n",
              "      <th>333</th>\n",
              "      <td>USHA_ECOLI</td>\n",
              "      <td>0.61</td>\n",
              "      <td>0.60</td>\n",
              "      <td>0.48</td>\n",
              "      <td>0.5</td>\n",
              "      <td>0.44</td>\n",
              "      <td>0.39</td>\n",
              "      <td>0.38</td>\n",
              "      <td>pp</td>\n",
              "    </tr>\n",
              "    <tr>\n",
              "      <th>334</th>\n",
              "      <td>XYLF_ECOLI</td>\n",
              "      <td>0.59</td>\n",
              "      <td>0.61</td>\n",
              "      <td>0.48</td>\n",
              "      <td>0.5</td>\n",
              "      <td>0.42</td>\n",
              "      <td>0.42</td>\n",
              "      <td>0.37</td>\n",
              "      <td>pp</td>\n",
              "    </tr>\n",
              "    <tr>\n",
              "      <th>335</th>\n",
              "      <td>YTFQ_ECOLI</td>\n",
              "      <td>0.74</td>\n",
              "      <td>0.74</td>\n",
              "      <td>0.48</td>\n",
              "      <td>0.5</td>\n",
              "      <td>0.31</td>\n",
              "      <td>0.53</td>\n",
              "      <td>0.52</td>\n",
              "      <td>pp</td>\n",
              "    </tr>\n",
              "  </tbody>\n",
              "</table>\n",
              "<p>336 rows × 9 columns</p>\n",
              "</div>"
            ],
            "text/plain": [
              "              0     1     2     3    4     5     6     7   8\n",
              "0     AAT_ECOLI  0.49  0.29  0.48  0.5  0.56  0.24  0.35  cp\n",
              "1    ACEA_ECOLI  0.07  0.40  0.48  0.5  0.54  0.35  0.44  cp\n",
              "2    ACEK_ECOLI  0.56  0.40  0.48  0.5  0.49  0.37  0.46  cp\n",
              "3    ACKA_ECOLI  0.59  0.49  0.48  0.5  0.52  0.45  0.36  cp\n",
              "4     ADI_ECOLI  0.23  0.32  0.48  0.5  0.55  0.25  0.35  cp\n",
              "..          ...   ...   ...   ...  ...   ...   ...   ...  ..\n",
              "331  TREA_ECOLI  0.74  0.56  0.48  0.5  0.47  0.68  0.30  pp\n",
              "332  UGPB_ECOLI  0.71  0.57  0.48  0.5  0.48  0.35  0.32  pp\n",
              "333  USHA_ECOLI  0.61  0.60  0.48  0.5  0.44  0.39  0.38  pp\n",
              "334  XYLF_ECOLI  0.59  0.61  0.48  0.5  0.42  0.42  0.37  pp\n",
              "335  YTFQ_ECOLI  0.74  0.74  0.48  0.5  0.31  0.53  0.52  pp\n",
              "\n",
              "[336 rows x 9 columns]"
            ]
          },
          "metadata": {
            "tags": []
          },
          "execution_count": 7
        }
      ]
    },
    {
      "cell_type": "code",
      "metadata": {
        "id": "pxcRAND_kH5s",
        "colab_type": "code",
        "colab": {},
        "outputId": "aaad7a34-4043-4ff4-d31a-007415d76911"
      },
      "source": [
        "ecoli = ecoli.iloc[:,1:8]\n",
        "ecoli = ecoli.rename(columns={1:\"mcg\", 2:\"gvh\",3:\"lip\",4:\"chg\",5:\"aac\",6:\"alm1\",7:\"alm2\"})\n",
        "ecoli.head()"
      ],
      "execution_count": null,
      "outputs": [
        {
          "output_type": "execute_result",
          "data": {
            "text/html": [
              "<div>\n",
              "<style scoped>\n",
              "    .dataframe tbody tr th:only-of-type {\n",
              "        vertical-align: middle;\n",
              "    }\n",
              "\n",
              "    .dataframe tbody tr th {\n",
              "        vertical-align: top;\n",
              "    }\n",
              "\n",
              "    .dataframe thead th {\n",
              "        text-align: right;\n",
              "    }\n",
              "</style>\n",
              "<table border=\"1\" class=\"dataframe\">\n",
              "  <thead>\n",
              "    <tr style=\"text-align: right;\">\n",
              "      <th></th>\n",
              "      <th>mcg</th>\n",
              "      <th>gvh</th>\n",
              "      <th>lip</th>\n",
              "      <th>chg</th>\n",
              "      <th>aac</th>\n",
              "      <th>alm1</th>\n",
              "      <th>alm2</th>\n",
              "    </tr>\n",
              "  </thead>\n",
              "  <tbody>\n",
              "    <tr>\n",
              "      <th>0</th>\n",
              "      <td>0.49</td>\n",
              "      <td>0.29</td>\n",
              "      <td>0.48</td>\n",
              "      <td>0.5</td>\n",
              "      <td>0.56</td>\n",
              "      <td>0.24</td>\n",
              "      <td>0.35</td>\n",
              "    </tr>\n",
              "    <tr>\n",
              "      <th>1</th>\n",
              "      <td>0.07</td>\n",
              "      <td>0.40</td>\n",
              "      <td>0.48</td>\n",
              "      <td>0.5</td>\n",
              "      <td>0.54</td>\n",
              "      <td>0.35</td>\n",
              "      <td>0.44</td>\n",
              "    </tr>\n",
              "    <tr>\n",
              "      <th>2</th>\n",
              "      <td>0.56</td>\n",
              "      <td>0.40</td>\n",
              "      <td>0.48</td>\n",
              "      <td>0.5</td>\n",
              "      <td>0.49</td>\n",
              "      <td>0.37</td>\n",
              "      <td>0.46</td>\n",
              "    </tr>\n",
              "    <tr>\n",
              "      <th>3</th>\n",
              "      <td>0.59</td>\n",
              "      <td>0.49</td>\n",
              "      <td>0.48</td>\n",
              "      <td>0.5</td>\n",
              "      <td>0.52</td>\n",
              "      <td>0.45</td>\n",
              "      <td>0.36</td>\n",
              "    </tr>\n",
              "    <tr>\n",
              "      <th>4</th>\n",
              "      <td>0.23</td>\n",
              "      <td>0.32</td>\n",
              "      <td>0.48</td>\n",
              "      <td>0.5</td>\n",
              "      <td>0.55</td>\n",
              "      <td>0.25</td>\n",
              "      <td>0.35</td>\n",
              "    </tr>\n",
              "  </tbody>\n",
              "</table>\n",
              "</div>"
            ],
            "text/plain": [
              "    mcg   gvh   lip  chg   aac  alm1  alm2\n",
              "0  0.49  0.29  0.48  0.5  0.56  0.24  0.35\n",
              "1  0.07  0.40  0.48  0.5  0.54  0.35  0.44\n",
              "2  0.56  0.40  0.48  0.5  0.49  0.37  0.46\n",
              "3  0.59  0.49  0.48  0.5  0.52  0.45  0.36\n",
              "4  0.23  0.32  0.48  0.5  0.55  0.25  0.35"
            ]
          },
          "metadata": {
            "tags": []
          },
          "execution_count": 8
        }
      ]
    },
    {
      "cell_type": "code",
      "metadata": {
        "id": "I_xvgFflkH5w",
        "colab_type": "code",
        "colab": {},
        "outputId": "83a21bba-9610-4275-d2a8-0df918dd87fb"
      },
      "source": [
        "ecoli.shape"
      ],
      "execution_count": null,
      "outputs": [
        {
          "output_type": "execute_result",
          "data": {
            "text/plain": [
              "(336, 7)"
            ]
          },
          "metadata": {
            "tags": []
          },
          "execution_count": 9
        }
      ]
    },
    {
      "cell_type": "markdown",
      "metadata": {
        "id": "HgrgSZ-qkH5x",
        "colab_type": "text"
      },
      "source": [
        "\n",
        "\n",
        "### Problem 2b  (5 points)\n",
        "Compute and print the covariance matrix for all columns excluding the first and last.  Rather than use the built-in function, compute this using python code for practice.  The following equation will suffice for this.  We encourage you to check the result using the built-in function.\n",
        "\n",
        "Cov(X, Y) = Σ ( Xi - X ) ( Yi - Y ) / (N-1) \n"
      ]
    },
    {
      "cell_type": "code",
      "metadata": {
        "id": "_fDWnZjJkH5x",
        "colab_type": "code",
        "colab": {},
        "outputId": "fc766fd4-1cda-49bd-f02b-408cb2d8e50a"
      },
      "source": [
        "#first i'll center the data round the mean\n",
        "means = np.average(ecoli,axis=0)\n",
        "means\n",
        "ecoli = ecoli - means\n",
        "ecoli"
      ],
      "execution_count": null,
      "outputs": [
        {
          "output_type": "execute_result",
          "data": {
            "text/html": [
              "<div>\n",
              "<style scoped>\n",
              "    .dataframe tbody tr th:only-of-type {\n",
              "        vertical-align: middle;\n",
              "    }\n",
              "\n",
              "    .dataframe tbody tr th {\n",
              "        vertical-align: top;\n",
              "    }\n",
              "\n",
              "    .dataframe thead th {\n",
              "        text-align: right;\n",
              "    }\n",
              "</style>\n",
              "<table border=\"1\" class=\"dataframe\">\n",
              "  <thead>\n",
              "    <tr style=\"text-align: right;\">\n",
              "      <th></th>\n",
              "      <th>mcg</th>\n",
              "      <th>gvh</th>\n",
              "      <th>lip</th>\n",
              "      <th>chg</th>\n",
              "      <th>aac</th>\n",
              "      <th>alm1</th>\n",
              "      <th>alm2</th>\n",
              "    </tr>\n",
              "  </thead>\n",
              "  <tbody>\n",
              "    <tr>\n",
              "      <th>0</th>\n",
              "      <td>-0.01006</td>\n",
              "      <td>-0.21</td>\n",
              "      <td>-0.015476</td>\n",
              "      <td>-0.001488</td>\n",
              "      <td>0.05997</td>\n",
              "      <td>-0.260179</td>\n",
              "      <td>-0.149732</td>\n",
              "    </tr>\n",
              "    <tr>\n",
              "      <th>1</th>\n",
              "      <td>-0.43006</td>\n",
              "      <td>-0.10</td>\n",
              "      <td>-0.015476</td>\n",
              "      <td>-0.001488</td>\n",
              "      <td>0.03997</td>\n",
              "      <td>-0.150179</td>\n",
              "      <td>-0.059732</td>\n",
              "    </tr>\n",
              "    <tr>\n",
              "      <th>2</th>\n",
              "      <td>0.05994</td>\n",
              "      <td>-0.10</td>\n",
              "      <td>-0.015476</td>\n",
              "      <td>-0.001488</td>\n",
              "      <td>-0.01003</td>\n",
              "      <td>-0.130179</td>\n",
              "      <td>-0.039732</td>\n",
              "    </tr>\n",
              "    <tr>\n",
              "      <th>3</th>\n",
              "      <td>0.08994</td>\n",
              "      <td>-0.01</td>\n",
              "      <td>-0.015476</td>\n",
              "      <td>-0.001488</td>\n",
              "      <td>0.01997</td>\n",
              "      <td>-0.050179</td>\n",
              "      <td>-0.139732</td>\n",
              "    </tr>\n",
              "    <tr>\n",
              "      <th>4</th>\n",
              "      <td>-0.27006</td>\n",
              "      <td>-0.18</td>\n",
              "      <td>-0.015476</td>\n",
              "      <td>-0.001488</td>\n",
              "      <td>0.04997</td>\n",
              "      <td>-0.250179</td>\n",
              "      <td>-0.149732</td>\n",
              "    </tr>\n",
              "    <tr>\n",
              "      <th>...</th>\n",
              "      <td>...</td>\n",
              "      <td>...</td>\n",
              "      <td>...</td>\n",
              "      <td>...</td>\n",
              "      <td>...</td>\n",
              "      <td>...</td>\n",
              "      <td>...</td>\n",
              "    </tr>\n",
              "    <tr>\n",
              "      <th>331</th>\n",
              "      <td>0.23994</td>\n",
              "      <td>0.06</td>\n",
              "      <td>-0.015476</td>\n",
              "      <td>-0.001488</td>\n",
              "      <td>-0.03003</td>\n",
              "      <td>0.179821</td>\n",
              "      <td>-0.199732</td>\n",
              "    </tr>\n",
              "    <tr>\n",
              "      <th>332</th>\n",
              "      <td>0.20994</td>\n",
              "      <td>0.07</td>\n",
              "      <td>-0.015476</td>\n",
              "      <td>-0.001488</td>\n",
              "      <td>-0.02003</td>\n",
              "      <td>-0.150179</td>\n",
              "      <td>-0.179732</td>\n",
              "    </tr>\n",
              "    <tr>\n",
              "      <th>333</th>\n",
              "      <td>0.10994</td>\n",
              "      <td>0.10</td>\n",
              "      <td>-0.015476</td>\n",
              "      <td>-0.001488</td>\n",
              "      <td>-0.06003</td>\n",
              "      <td>-0.110179</td>\n",
              "      <td>-0.119732</td>\n",
              "    </tr>\n",
              "    <tr>\n",
              "      <th>334</th>\n",
              "      <td>0.08994</td>\n",
              "      <td>0.11</td>\n",
              "      <td>-0.015476</td>\n",
              "      <td>-0.001488</td>\n",
              "      <td>-0.08003</td>\n",
              "      <td>-0.080179</td>\n",
              "      <td>-0.129732</td>\n",
              "    </tr>\n",
              "    <tr>\n",
              "      <th>335</th>\n",
              "      <td>0.23994</td>\n",
              "      <td>0.24</td>\n",
              "      <td>-0.015476</td>\n",
              "      <td>-0.001488</td>\n",
              "      <td>-0.19003</td>\n",
              "      <td>0.029821</td>\n",
              "      <td>0.020268</td>\n",
              "    </tr>\n",
              "  </tbody>\n",
              "</table>\n",
              "<p>336 rows × 7 columns</p>\n",
              "</div>"
            ],
            "text/plain": [
              "         mcg   gvh       lip       chg      aac      alm1      alm2\n",
              "0   -0.01006 -0.21 -0.015476 -0.001488  0.05997 -0.260179 -0.149732\n",
              "1   -0.43006 -0.10 -0.015476 -0.001488  0.03997 -0.150179 -0.059732\n",
              "2    0.05994 -0.10 -0.015476 -0.001488 -0.01003 -0.130179 -0.039732\n",
              "3    0.08994 -0.01 -0.015476 -0.001488  0.01997 -0.050179 -0.139732\n",
              "4   -0.27006 -0.18 -0.015476 -0.001488  0.04997 -0.250179 -0.149732\n",
              "..       ...   ...       ...       ...      ...       ...       ...\n",
              "331  0.23994  0.06 -0.015476 -0.001488 -0.03003  0.179821 -0.199732\n",
              "332  0.20994  0.07 -0.015476 -0.001488 -0.02003 -0.150179 -0.179732\n",
              "333  0.10994  0.10 -0.015476 -0.001488 -0.06003 -0.110179 -0.119732\n",
              "334  0.08994  0.11 -0.015476 -0.001488 -0.08003 -0.080179 -0.129732\n",
              "335  0.23994  0.24 -0.015476 -0.001488 -0.19003  0.029821  0.020268\n",
              "\n",
              "[336 rows x 7 columns]"
            ]
          },
          "metadata": {
            "tags": []
          },
          "execution_count": 10
        }
      ]
    },
    {
      "cell_type": "code",
      "metadata": {
        "id": "1rbtTTk4kH5y",
        "colab_type": "code",
        "colab": {},
        "outputId": "fc065da7-9f3c-448a-93a4-ad663ff2483d"
      },
      "source": [
        "#next i'll create an empty dataframe for my covariance results\n",
        "cov_matrix = pd.DataFrame(np.zeros([ecoli.shape[1],ecoli.shape[1]]))\n",
        "cov_matrix = cov_matrix.rename(columns={0:\"mcg\", 1:\"gvh\",2:\"lip\",3:\"chg\",4:\"aac\",5:\"alm1\",6:\"alm2\"})\n",
        "cov_matrix = cov_matrix.rename(index={0:\"mcg\", 1:\"gvh\",2:\"lip\",3:\"chg\",4:\"aac\",5:\"alm1\",6:\"alm2\"})\n",
        "cov_matrix"
      ],
      "execution_count": null,
      "outputs": [
        {
          "output_type": "execute_result",
          "data": {
            "text/html": [
              "<div>\n",
              "<style scoped>\n",
              "    .dataframe tbody tr th:only-of-type {\n",
              "        vertical-align: middle;\n",
              "    }\n",
              "\n",
              "    .dataframe tbody tr th {\n",
              "        vertical-align: top;\n",
              "    }\n",
              "\n",
              "    .dataframe thead th {\n",
              "        text-align: right;\n",
              "    }\n",
              "</style>\n",
              "<table border=\"1\" class=\"dataframe\">\n",
              "  <thead>\n",
              "    <tr style=\"text-align: right;\">\n",
              "      <th></th>\n",
              "      <th>mcg</th>\n",
              "      <th>gvh</th>\n",
              "      <th>lip</th>\n",
              "      <th>chg</th>\n",
              "      <th>aac</th>\n",
              "      <th>alm1</th>\n",
              "      <th>alm2</th>\n",
              "    </tr>\n",
              "  </thead>\n",
              "  <tbody>\n",
              "    <tr>\n",
              "      <th>mcg</th>\n",
              "      <td>0.0</td>\n",
              "      <td>0.0</td>\n",
              "      <td>0.0</td>\n",
              "      <td>0.0</td>\n",
              "      <td>0.0</td>\n",
              "      <td>0.0</td>\n",
              "      <td>0.0</td>\n",
              "    </tr>\n",
              "    <tr>\n",
              "      <th>gvh</th>\n",
              "      <td>0.0</td>\n",
              "      <td>0.0</td>\n",
              "      <td>0.0</td>\n",
              "      <td>0.0</td>\n",
              "      <td>0.0</td>\n",
              "      <td>0.0</td>\n",
              "      <td>0.0</td>\n",
              "    </tr>\n",
              "    <tr>\n",
              "      <th>lip</th>\n",
              "      <td>0.0</td>\n",
              "      <td>0.0</td>\n",
              "      <td>0.0</td>\n",
              "      <td>0.0</td>\n",
              "      <td>0.0</td>\n",
              "      <td>0.0</td>\n",
              "      <td>0.0</td>\n",
              "    </tr>\n",
              "    <tr>\n",
              "      <th>chg</th>\n",
              "      <td>0.0</td>\n",
              "      <td>0.0</td>\n",
              "      <td>0.0</td>\n",
              "      <td>0.0</td>\n",
              "      <td>0.0</td>\n",
              "      <td>0.0</td>\n",
              "      <td>0.0</td>\n",
              "    </tr>\n",
              "    <tr>\n",
              "      <th>aac</th>\n",
              "      <td>0.0</td>\n",
              "      <td>0.0</td>\n",
              "      <td>0.0</td>\n",
              "      <td>0.0</td>\n",
              "      <td>0.0</td>\n",
              "      <td>0.0</td>\n",
              "      <td>0.0</td>\n",
              "    </tr>\n",
              "    <tr>\n",
              "      <th>alm1</th>\n",
              "      <td>0.0</td>\n",
              "      <td>0.0</td>\n",
              "      <td>0.0</td>\n",
              "      <td>0.0</td>\n",
              "      <td>0.0</td>\n",
              "      <td>0.0</td>\n",
              "      <td>0.0</td>\n",
              "    </tr>\n",
              "    <tr>\n",
              "      <th>alm2</th>\n",
              "      <td>0.0</td>\n",
              "      <td>0.0</td>\n",
              "      <td>0.0</td>\n",
              "      <td>0.0</td>\n",
              "      <td>0.0</td>\n",
              "      <td>0.0</td>\n",
              "      <td>0.0</td>\n",
              "    </tr>\n",
              "  </tbody>\n",
              "</table>\n",
              "</div>"
            ],
            "text/plain": [
              "      mcg  gvh  lip  chg  aac  alm1  alm2\n",
              "mcg   0.0  0.0  0.0  0.0  0.0   0.0   0.0\n",
              "gvh   0.0  0.0  0.0  0.0  0.0   0.0   0.0\n",
              "lip   0.0  0.0  0.0  0.0  0.0   0.0   0.0\n",
              "chg   0.0  0.0  0.0  0.0  0.0   0.0   0.0\n",
              "aac   0.0  0.0  0.0  0.0  0.0   0.0   0.0\n",
              "alm1  0.0  0.0  0.0  0.0  0.0   0.0   0.0\n",
              "alm2  0.0  0.0  0.0  0.0  0.0   0.0   0.0"
            ]
          },
          "metadata": {
            "tags": []
          },
          "execution_count": 11
        }
      ]
    },
    {
      "cell_type": "code",
      "metadata": {
        "scrolled": true,
        "id": "tOADwn6YkH5z",
        "colab_type": "code",
        "colab": {},
        "outputId": "fd9e78d3-86c0-47bc-c63e-803fd6ca6a22"
      },
      "source": [
        "denom = ecoli.shape[0]-1\n",
        "for i in range(ecoli.shape[1]):\n",
        "    for j in range(ecoli.shape[1]):\n",
        "        i_mean = np.average(ecoli.iloc[:,i])\n",
        "        j_mean = np.average(ecoli.iloc[:,j])\n",
        "        k_sum = 0\n",
        "        for k in range(ecoli.shape[0]):\n",
        "            k_sum = k_sum +((ecoli.iloc[k,i] - i_mean) * (ecoli.iloc[k,j] - j_mean))\n",
        "#             print(\"k:\",k,\"i:\",i,\"( Xi - X ) =\",(ecoli.iloc[k,i] - i_mean), \"j:\",j,\"( Yi - Y ) = \",( ecoli.iloc[k,j] - j_mean))\n",
        "#             print(\"running k_sum\",k_sum)\n",
        "        cov_matrix.iloc[j,i] = k_sum / denom\n",
        "        \n",
        "cov_matrix"
      ],
      "execution_count": null,
      "outputs": [
        {
          "output_type": "execute_result",
          "data": {
            "text/html": [
              "<div>\n",
              "<style scoped>\n",
              "    .dataframe tbody tr th:only-of-type {\n",
              "        vertical-align: middle;\n",
              "    }\n",
              "\n",
              "    .dataframe tbody tr th {\n",
              "        vertical-align: top;\n",
              "    }\n",
              "\n",
              "    .dataframe thead th {\n",
              "        text-align: right;\n",
              "    }\n",
              "</style>\n",
              "<table border=\"1\" class=\"dataframe\">\n",
              "  <thead>\n",
              "    <tr style=\"text-align: right;\">\n",
              "      <th></th>\n",
              "      <th>mcg</th>\n",
              "      <th>gvh</th>\n",
              "      <th>lip</th>\n",
              "      <th>chg</th>\n",
              "      <th>aac</th>\n",
              "      <th>alm1</th>\n",
              "      <th>alm2</th>\n",
              "    </tr>\n",
              "  </thead>\n",
              "  <tbody>\n",
              "    <tr>\n",
              "      <th>mcg</th>\n",
              "      <td>0.037882</td>\n",
              "      <td>0.013115</td>\n",
              "      <td>0.002529</td>\n",
              "      <td>0.000373</td>\n",
              "      <td>0.005257</td>\n",
              "      <td>0.016670</td>\n",
              "      <td>0.006810</td>\n",
              "    </tr>\n",
              "    <tr>\n",
              "      <th>gvh</th>\n",
              "      <td>0.013115</td>\n",
              "      <td>0.021950</td>\n",
              "      <td>0.000574</td>\n",
              "      <td>0.000075</td>\n",
              "      <td>0.001266</td>\n",
              "      <td>0.005546</td>\n",
              "      <td>-0.003729</td>\n",
              "    </tr>\n",
              "    <tr>\n",
              "      <th>lip</th>\n",
              "      <td>0.002529</td>\n",
              "      <td>0.000574</td>\n",
              "      <td>0.007831</td>\n",
              "      <td>0.000753</td>\n",
              "      <td>0.000760</td>\n",
              "      <td>0.001829</td>\n",
              "      <td>-0.001067</td>\n",
              "    </tr>\n",
              "    <tr>\n",
              "      <th>chg</th>\n",
              "      <td>0.000373</td>\n",
              "      <td>0.000075</td>\n",
              "      <td>0.000753</td>\n",
              "      <td>0.000744</td>\n",
              "      <td>-0.000149</td>\n",
              "      <td>-0.000045</td>\n",
              "      <td>-0.000298</td>\n",
              "    </tr>\n",
              "    <tr>\n",
              "      <th>aac</th>\n",
              "      <td>0.005257</td>\n",
              "      <td>0.001266</td>\n",
              "      <td>0.000760</td>\n",
              "      <td>-0.000149</td>\n",
              "      <td>0.014976</td>\n",
              "      <td>0.007379</td>\n",
              "      <td>0.006475</td>\n",
              "    </tr>\n",
              "    <tr>\n",
              "      <th>alm1</th>\n",
              "      <td>0.016670</td>\n",
              "      <td>0.005546</td>\n",
              "      <td>0.001829</td>\n",
              "      <td>-0.000045</td>\n",
              "      <td>0.007379</td>\n",
              "      <td>0.046549</td>\n",
              "      <td>0.036566</td>\n",
              "    </tr>\n",
              "    <tr>\n",
              "      <th>alm2</th>\n",
              "      <td>0.006810</td>\n",
              "      <td>-0.003729</td>\n",
              "      <td>-0.001067</td>\n",
              "      <td>-0.000298</td>\n",
              "      <td>0.006475</td>\n",
              "      <td>0.036566</td>\n",
              "      <td>0.043853</td>\n",
              "    </tr>\n",
              "  </tbody>\n",
              "</table>\n",
              "</div>"
            ],
            "text/plain": [
              "           mcg       gvh       lip       chg       aac      alm1      alm2\n",
              "mcg   0.037882  0.013115  0.002529  0.000373  0.005257  0.016670  0.006810\n",
              "gvh   0.013115  0.021950  0.000574  0.000075  0.001266  0.005546 -0.003729\n",
              "lip   0.002529  0.000574  0.007831  0.000753  0.000760  0.001829 -0.001067\n",
              "chg   0.000373  0.000075  0.000753  0.000744 -0.000149 -0.000045 -0.000298\n",
              "aac   0.005257  0.001266  0.000760 -0.000149  0.014976  0.007379  0.006475\n",
              "alm1  0.016670  0.005546  0.001829 -0.000045  0.007379  0.046549  0.036566\n",
              "alm2  0.006810 -0.003729 -0.001067 -0.000298  0.006475  0.036566  0.043853"
            ]
          },
          "metadata": {
            "tags": []
          },
          "execution_count": 12
        }
      ]
    },
    {
      "cell_type": "code",
      "metadata": {
        "id": "8DBHkAIEkH50",
        "colab_type": "code",
        "colab": {},
        "outputId": "820ec564-4bdc-48a4-fc7f-16b6d17b6d5c"
      },
      "source": [
        "#to confirm this is right\n",
        "np.allclose(cov_matrix,ecoli.cov())"
      ],
      "execution_count": null,
      "outputs": [
        {
          "output_type": "execute_result",
          "data": {
            "text/plain": [
              "True"
            ]
          },
          "metadata": {
            "tags": []
          },
          "execution_count": 13
        }
      ]
    },
    {
      "cell_type": "markdown",
      "metadata": {
        "id": "06hF5XFXkH51",
        "colab_type": "text"
      },
      "source": [
        "### Problem 2c  (10 points)\n",
        "\n",
        "Compute the decomposition of the covariance matrix using singular value decomposition.  Using a python function is definitely the way to go here.  Print out the 3 matrices."
      ]
    },
    {
      "cell_type": "code",
      "metadata": {
        "id": "1qdvrDNikH52",
        "colab_type": "code",
        "colab": {}
      },
      "source": [
        "eigenvalues, eigenvectors = np.linalg.eigh(cov_matrix)"
      ],
      "execution_count": null,
      "outputs": []
    },
    {
      "cell_type": "code",
      "metadata": {
        "id": "h7WOcITikH52",
        "colab_type": "code",
        "colab": {},
        "outputId": "4a9b096c-c89b-4c65-cc6b-722a7e4fa968"
      },
      "source": [
        "print('Eigenvalues \\n%s\\n' %eigenvalues)\n",
        "print('Eigenvectors \\n%s' %eigenvectors)"
      ],
      "execution_count": null,
      "outputs": [
        {
          "output_type": "stream",
          "text": [
            "Eigenvalues \n",
            "[0.00065892 0.00493527 0.00853362 0.01288363 0.01463252 0.04243901\n",
            " 0.08970253]\n",
            "\n",
            "Eigenvectors \n",
            "[[-8.56193962e-03  2.62199804e-02 -1.29441525e-01  3.52555665e-01\n",
            "   4.56914809e-01 -7.29824958e-01 -3.41720629e-01]\n",
            " [ 2.89703065e-04  2.81111220e-01 -1.39018617e-01 -3.42514767e-01\n",
            "  -7.04480258e-01 -5.28794379e-01 -9.17492644e-02]\n",
            " [-1.06318528e-01  4.93627297e-01  8.54762221e-01 -1.46705018e-02\n",
            "   9.24097367e-02 -7.25012267e-02 -1.99698823e-02]\n",
            " [ 9.94100049e-01  6.21081678e-02  8.61437517e-02  1.64849996e-02\n",
            "   8.81896510e-03 -1.16809378e-02  9.74209562e-04]\n",
            " [ 1.64278490e-02 -3.90505852e-02 -4.86492931e-02 -8.66343630e-01\n",
            "   4.70463079e-01 -4.80496808e-02 -1.47115119e-01]\n",
            " [ 9.64476070e-03 -5.75266798e-01  3.50569568e-01 -1.83906883e-02\n",
            "  -2.54072739e-01  7.21275410e-02 -6.89914858e-01]\n",
            " [-5.01770938e-03  5.83358230e-01 -3.17196689e-01  8.37356323e-02\n",
            "   2.07514962e-02  4.18124394e-01 -6.13827312e-01]]\n"
          ],
          "name": "stdout"
        }
      ]
    },
    {
      "cell_type": "code",
      "metadata": {
        "id": "V8gx2X_mkH53",
        "colab_type": "code",
        "colab": {},
        "outputId": "fc080a07-5df8-431f-b786-b4918e3d506c"
      },
      "source": [
        "idx = np.argsort (- eigenvalues)\n",
        "eigenvalues = eigenvalues[idx]\n",
        "eigenvectors = eigenvectors [: , idx ]\n",
        "print(\"ordered eigenvalues:\", eigenvalues,\"\")\n",
        "print(\"\\n\\nordered eigenvectors:\", eigenvectors)"
      ],
      "execution_count": null,
      "outputs": [
        {
          "output_type": "stream",
          "text": [
            "ordered eigenvalues: [0.08970253 0.04243901 0.01463252 0.01288363 0.00853362 0.00493527\n",
            " 0.00065892] \n",
            "\n",
            "\n",
            "ordered eigenvectors: [[-3.41720629e-01 -7.29824958e-01  4.56914809e-01  3.52555665e-01\n",
            "  -1.29441525e-01  2.62199804e-02 -8.56193962e-03]\n",
            " [-9.17492644e-02 -5.28794379e-01 -7.04480258e-01 -3.42514767e-01\n",
            "  -1.39018617e-01  2.81111220e-01  2.89703065e-04]\n",
            " [-1.99698823e-02 -7.25012267e-02  9.24097367e-02 -1.46705018e-02\n",
            "   8.54762221e-01  4.93627297e-01 -1.06318528e-01]\n",
            " [ 9.74209562e-04 -1.16809378e-02  8.81896510e-03  1.64849996e-02\n",
            "   8.61437517e-02  6.21081678e-02  9.94100049e-01]\n",
            " [-1.47115119e-01 -4.80496808e-02  4.70463079e-01 -8.66343630e-01\n",
            "  -4.86492931e-02 -3.90505852e-02  1.64278490e-02]\n",
            " [-6.89914858e-01  7.21275410e-02 -2.54072739e-01 -1.83906883e-02\n",
            "   3.50569568e-01 -5.75266798e-01  9.64476070e-03]\n",
            " [-6.13827312e-01  4.18124394e-01  2.07514962e-02  8.37356323e-02\n",
            "  -3.17196689e-01  5.83358230e-01 -5.01770938e-03]]\n"
          ],
          "name": "stdout"
        }
      ]
    },
    {
      "cell_type": "code",
      "metadata": {
        "scrolled": true,
        "id": "XzYKMnxEkH54",
        "colab_type": "code",
        "colab": {},
        "outputId": "5dcfc732-2e90-443d-cadd-b278d79f6407"
      },
      "source": [
        "U = eigenvectors\n",
        "S = eigenvalues*np.eye(7)\n",
        "V = U.T\n",
        "D = np.dot(U, np.dot(S, V))\n",
        "D"
      ],
      "execution_count": null,
      "outputs": [
        {
          "output_type": "execute_result",
          "data": {
            "text/plain": [
              "array([[ 3.78823845e-02,  1.31149254e-02,  2.52922530e-03,\n",
              "         3.73045487e-04,  5.25671464e-03,  1.66701386e-02,\n",
              "         6.81016525e-03],\n",
              "       [ 1.31149254e-02,  2.19504478e-02,  5.74328358e-04,\n",
              "         7.46268657e-05,  1.26597015e-03,  5.54567164e-03,\n",
              "        -3.72925373e-03],\n",
              "       [ 2.52922530e-03,  5.74328358e-04,  7.83141436e-03,\n",
              "         7.53020611e-04,  7.60135039e-04,  1.82886994e-03,\n",
              "        -1.06688699e-03],\n",
              "       [ 3.73045487e-04,  7.46268657e-05,  7.53020611e-04,\n",
              "         7.44047619e-04, -1.49298152e-04, -4.50426439e-05,\n",
              "        -2.98107676e-04],\n",
              "       [ 5.25671464e-03,  1.26597015e-03,  7.60135039e-04,\n",
              "        -1.49298152e-04,  1.49758200e-02,  7.37909915e-03,\n",
              "         6.47523188e-03],\n",
              "       [ 1.66701386e-02,  5.54567164e-03,  1.82886994e-03,\n",
              "        -4.50426439e-05,  7.37909915e-03,  4.65486247e-02,\n",
              "         3.65657196e-02],\n",
              "       [ 6.81016525e-03, -3.72925373e-03, -1.06688699e-03,\n",
              "        -2.98107676e-04,  6.47523188e-03,  3.65657196e-02,\n",
              "         4.38527639e-02]])"
            ]
          },
          "metadata": {
            "tags": []
          },
          "execution_count": 17
        }
      ]
    },
    {
      "cell_type": "code",
      "metadata": {
        "scrolled": true,
        "id": "IqhKXq4XkH58",
        "colab_type": "code",
        "colab": {},
        "outputId": "d5dfd52a-fd27-41fa-9a74-739e4bf5bc63"
      },
      "source": [
        "np.allclose(cov_matrix,D)"
      ],
      "execution_count": null,
      "outputs": [
        {
          "output_type": "execute_result",
          "data": {
            "text/plain": [
              "True"
            ]
          },
          "metadata": {
            "tags": []
          },
          "execution_count": 18
        }
      ]
    },
    {
      "cell_type": "code",
      "metadata": {
        "id": "B88w8ilbkH5-",
        "colab_type": "code",
        "colab": {},
        "outputId": "3090d2f8-909f-44fa-8083-6855bc18963d"
      },
      "source": [
        "print(\"Eigenvectors\")\n",
        "pd.DataFrame(U)"
      ],
      "execution_count": null,
      "outputs": [
        {
          "output_type": "stream",
          "text": [
            "Eigenvectors\n"
          ],
          "name": "stdout"
        },
        {
          "output_type": "execute_result",
          "data": {
            "text/html": [
              "<div>\n",
              "<style scoped>\n",
              "    .dataframe tbody tr th:only-of-type {\n",
              "        vertical-align: middle;\n",
              "    }\n",
              "\n",
              "    .dataframe tbody tr th {\n",
              "        vertical-align: top;\n",
              "    }\n",
              "\n",
              "    .dataframe thead th {\n",
              "        text-align: right;\n",
              "    }\n",
              "</style>\n",
              "<table border=\"1\" class=\"dataframe\">\n",
              "  <thead>\n",
              "    <tr style=\"text-align: right;\">\n",
              "      <th></th>\n",
              "      <th>0</th>\n",
              "      <th>1</th>\n",
              "      <th>2</th>\n",
              "      <th>3</th>\n",
              "      <th>4</th>\n",
              "      <th>5</th>\n",
              "      <th>6</th>\n",
              "    </tr>\n",
              "  </thead>\n",
              "  <tbody>\n",
              "    <tr>\n",
              "      <th>0</th>\n",
              "      <td>-0.341721</td>\n",
              "      <td>-0.729825</td>\n",
              "      <td>0.456915</td>\n",
              "      <td>0.352556</td>\n",
              "      <td>-0.129442</td>\n",
              "      <td>0.026220</td>\n",
              "      <td>-0.008562</td>\n",
              "    </tr>\n",
              "    <tr>\n",
              "      <th>1</th>\n",
              "      <td>-0.091749</td>\n",
              "      <td>-0.528794</td>\n",
              "      <td>-0.704480</td>\n",
              "      <td>-0.342515</td>\n",
              "      <td>-0.139019</td>\n",
              "      <td>0.281111</td>\n",
              "      <td>0.000290</td>\n",
              "    </tr>\n",
              "    <tr>\n",
              "      <th>2</th>\n",
              "      <td>-0.019970</td>\n",
              "      <td>-0.072501</td>\n",
              "      <td>0.092410</td>\n",
              "      <td>-0.014671</td>\n",
              "      <td>0.854762</td>\n",
              "      <td>0.493627</td>\n",
              "      <td>-0.106319</td>\n",
              "    </tr>\n",
              "    <tr>\n",
              "      <th>3</th>\n",
              "      <td>0.000974</td>\n",
              "      <td>-0.011681</td>\n",
              "      <td>0.008819</td>\n",
              "      <td>0.016485</td>\n",
              "      <td>0.086144</td>\n",
              "      <td>0.062108</td>\n",
              "      <td>0.994100</td>\n",
              "    </tr>\n",
              "    <tr>\n",
              "      <th>4</th>\n",
              "      <td>-0.147115</td>\n",
              "      <td>-0.048050</td>\n",
              "      <td>0.470463</td>\n",
              "      <td>-0.866344</td>\n",
              "      <td>-0.048649</td>\n",
              "      <td>-0.039051</td>\n",
              "      <td>0.016428</td>\n",
              "    </tr>\n",
              "    <tr>\n",
              "      <th>5</th>\n",
              "      <td>-0.689915</td>\n",
              "      <td>0.072128</td>\n",
              "      <td>-0.254073</td>\n",
              "      <td>-0.018391</td>\n",
              "      <td>0.350570</td>\n",
              "      <td>-0.575267</td>\n",
              "      <td>0.009645</td>\n",
              "    </tr>\n",
              "    <tr>\n",
              "      <th>6</th>\n",
              "      <td>-0.613827</td>\n",
              "      <td>0.418124</td>\n",
              "      <td>0.020751</td>\n",
              "      <td>0.083736</td>\n",
              "      <td>-0.317197</td>\n",
              "      <td>0.583358</td>\n",
              "      <td>-0.005018</td>\n",
              "    </tr>\n",
              "  </tbody>\n",
              "</table>\n",
              "</div>"
            ],
            "text/plain": [
              "          0         1         2         3         4         5         6\n",
              "0 -0.341721 -0.729825  0.456915  0.352556 -0.129442  0.026220 -0.008562\n",
              "1 -0.091749 -0.528794 -0.704480 -0.342515 -0.139019  0.281111  0.000290\n",
              "2 -0.019970 -0.072501  0.092410 -0.014671  0.854762  0.493627 -0.106319\n",
              "3  0.000974 -0.011681  0.008819  0.016485  0.086144  0.062108  0.994100\n",
              "4 -0.147115 -0.048050  0.470463 -0.866344 -0.048649 -0.039051  0.016428\n",
              "5 -0.689915  0.072128 -0.254073 -0.018391  0.350570 -0.575267  0.009645\n",
              "6 -0.613827  0.418124  0.020751  0.083736 -0.317197  0.583358 -0.005018"
            ]
          },
          "metadata": {
            "tags": []
          },
          "execution_count": 19
        }
      ]
    },
    {
      "cell_type": "code",
      "metadata": {
        "scrolled": false,
        "id": "0DySfn8RkH5_",
        "colab_type": "code",
        "colab": {},
        "outputId": "98681510-1812-44bf-993e-5e8dd5a84fe9"
      },
      "source": [
        "print(\"Eigenvalues\")\n",
        "pd.DataFrame(S)"
      ],
      "execution_count": null,
      "outputs": [
        {
          "output_type": "stream",
          "text": [
            "Eigenvalues\n"
          ],
          "name": "stdout"
        },
        {
          "output_type": "execute_result",
          "data": {
            "text/html": [
              "<div>\n",
              "<style scoped>\n",
              "    .dataframe tbody tr th:only-of-type {\n",
              "        vertical-align: middle;\n",
              "    }\n",
              "\n",
              "    .dataframe tbody tr th {\n",
              "        vertical-align: top;\n",
              "    }\n",
              "\n",
              "    .dataframe thead th {\n",
              "        text-align: right;\n",
              "    }\n",
              "</style>\n",
              "<table border=\"1\" class=\"dataframe\">\n",
              "  <thead>\n",
              "    <tr style=\"text-align: right;\">\n",
              "      <th></th>\n",
              "      <th>0</th>\n",
              "      <th>1</th>\n",
              "      <th>2</th>\n",
              "      <th>3</th>\n",
              "      <th>4</th>\n",
              "      <th>5</th>\n",
              "      <th>6</th>\n",
              "    </tr>\n",
              "  </thead>\n",
              "  <tbody>\n",
              "    <tr>\n",
              "      <th>0</th>\n",
              "      <td>0.089703</td>\n",
              "      <td>0.000000</td>\n",
              "      <td>0.000000</td>\n",
              "      <td>0.000000</td>\n",
              "      <td>0.000000</td>\n",
              "      <td>0.000000</td>\n",
              "      <td>0.000000</td>\n",
              "    </tr>\n",
              "    <tr>\n",
              "      <th>1</th>\n",
              "      <td>0.000000</td>\n",
              "      <td>0.042439</td>\n",
              "      <td>0.000000</td>\n",
              "      <td>0.000000</td>\n",
              "      <td>0.000000</td>\n",
              "      <td>0.000000</td>\n",
              "      <td>0.000000</td>\n",
              "    </tr>\n",
              "    <tr>\n",
              "      <th>2</th>\n",
              "      <td>0.000000</td>\n",
              "      <td>0.000000</td>\n",
              "      <td>0.014633</td>\n",
              "      <td>0.000000</td>\n",
              "      <td>0.000000</td>\n",
              "      <td>0.000000</td>\n",
              "      <td>0.000000</td>\n",
              "    </tr>\n",
              "    <tr>\n",
              "      <th>3</th>\n",
              "      <td>0.000000</td>\n",
              "      <td>0.000000</td>\n",
              "      <td>0.000000</td>\n",
              "      <td>0.012884</td>\n",
              "      <td>0.000000</td>\n",
              "      <td>0.000000</td>\n",
              "      <td>0.000000</td>\n",
              "    </tr>\n",
              "    <tr>\n",
              "      <th>4</th>\n",
              "      <td>0.000000</td>\n",
              "      <td>0.000000</td>\n",
              "      <td>0.000000</td>\n",
              "      <td>0.000000</td>\n",
              "      <td>0.008534</td>\n",
              "      <td>0.000000</td>\n",
              "      <td>0.000000</td>\n",
              "    </tr>\n",
              "    <tr>\n",
              "      <th>5</th>\n",
              "      <td>0.000000</td>\n",
              "      <td>0.000000</td>\n",
              "      <td>0.000000</td>\n",
              "      <td>0.000000</td>\n",
              "      <td>0.000000</td>\n",
              "      <td>0.004935</td>\n",
              "      <td>0.000000</td>\n",
              "    </tr>\n",
              "    <tr>\n",
              "      <th>6</th>\n",
              "      <td>0.000000</td>\n",
              "      <td>0.000000</td>\n",
              "      <td>0.000000</td>\n",
              "      <td>0.000000</td>\n",
              "      <td>0.000000</td>\n",
              "      <td>0.000000</td>\n",
              "      <td>0.000659</td>\n",
              "    </tr>\n",
              "  </tbody>\n",
              "</table>\n",
              "</div>"
            ],
            "text/plain": [
              "          0         1         2         3         4         5         6\n",
              "0  0.089703  0.000000  0.000000  0.000000  0.000000  0.000000  0.000000\n",
              "1  0.000000  0.042439  0.000000  0.000000  0.000000  0.000000  0.000000\n",
              "2  0.000000  0.000000  0.014633  0.000000  0.000000  0.000000  0.000000\n",
              "3  0.000000  0.000000  0.000000  0.012884  0.000000  0.000000  0.000000\n",
              "4  0.000000  0.000000  0.000000  0.000000  0.008534  0.000000  0.000000\n",
              "5  0.000000  0.000000  0.000000  0.000000  0.000000  0.004935  0.000000\n",
              "6  0.000000  0.000000  0.000000  0.000000  0.000000  0.000000  0.000659"
            ]
          },
          "metadata": {
            "tags": []
          },
          "execution_count": 20
        }
      ]
    },
    {
      "cell_type": "code",
      "metadata": {
        "scrolled": true,
        "id": "wVE2LR44kH6A",
        "colab_type": "code",
        "colab": {},
        "outputId": "b56e7744-1782-4e86-e56e-624da0d580cb"
      },
      "source": [
        "print(\"Eigenvectors'\")\n",
        "pd.DataFrame(V)"
      ],
      "execution_count": null,
      "outputs": [
        {
          "output_type": "stream",
          "text": [
            "Eigenvectors'\n"
          ],
          "name": "stdout"
        },
        {
          "output_type": "execute_result",
          "data": {
            "text/html": [
              "<div>\n",
              "<style scoped>\n",
              "    .dataframe tbody tr th:only-of-type {\n",
              "        vertical-align: middle;\n",
              "    }\n",
              "\n",
              "    .dataframe tbody tr th {\n",
              "        vertical-align: top;\n",
              "    }\n",
              "\n",
              "    .dataframe thead th {\n",
              "        text-align: right;\n",
              "    }\n",
              "</style>\n",
              "<table border=\"1\" class=\"dataframe\">\n",
              "  <thead>\n",
              "    <tr style=\"text-align: right;\">\n",
              "      <th></th>\n",
              "      <th>0</th>\n",
              "      <th>1</th>\n",
              "      <th>2</th>\n",
              "      <th>3</th>\n",
              "      <th>4</th>\n",
              "      <th>5</th>\n",
              "      <th>6</th>\n",
              "    </tr>\n",
              "  </thead>\n",
              "  <tbody>\n",
              "    <tr>\n",
              "      <th>0</th>\n",
              "      <td>-0.341721</td>\n",
              "      <td>-0.091749</td>\n",
              "      <td>-0.019970</td>\n",
              "      <td>0.000974</td>\n",
              "      <td>-0.147115</td>\n",
              "      <td>-0.689915</td>\n",
              "      <td>-0.613827</td>\n",
              "    </tr>\n",
              "    <tr>\n",
              "      <th>1</th>\n",
              "      <td>-0.729825</td>\n",
              "      <td>-0.528794</td>\n",
              "      <td>-0.072501</td>\n",
              "      <td>-0.011681</td>\n",
              "      <td>-0.048050</td>\n",
              "      <td>0.072128</td>\n",
              "      <td>0.418124</td>\n",
              "    </tr>\n",
              "    <tr>\n",
              "      <th>2</th>\n",
              "      <td>0.456915</td>\n",
              "      <td>-0.704480</td>\n",
              "      <td>0.092410</td>\n",
              "      <td>0.008819</td>\n",
              "      <td>0.470463</td>\n",
              "      <td>-0.254073</td>\n",
              "      <td>0.020751</td>\n",
              "    </tr>\n",
              "    <tr>\n",
              "      <th>3</th>\n",
              "      <td>0.352556</td>\n",
              "      <td>-0.342515</td>\n",
              "      <td>-0.014671</td>\n",
              "      <td>0.016485</td>\n",
              "      <td>-0.866344</td>\n",
              "      <td>-0.018391</td>\n",
              "      <td>0.083736</td>\n",
              "    </tr>\n",
              "    <tr>\n",
              "      <th>4</th>\n",
              "      <td>-0.129442</td>\n",
              "      <td>-0.139019</td>\n",
              "      <td>0.854762</td>\n",
              "      <td>0.086144</td>\n",
              "      <td>-0.048649</td>\n",
              "      <td>0.350570</td>\n",
              "      <td>-0.317197</td>\n",
              "    </tr>\n",
              "    <tr>\n",
              "      <th>5</th>\n",
              "      <td>0.026220</td>\n",
              "      <td>0.281111</td>\n",
              "      <td>0.493627</td>\n",
              "      <td>0.062108</td>\n",
              "      <td>-0.039051</td>\n",
              "      <td>-0.575267</td>\n",
              "      <td>0.583358</td>\n",
              "    </tr>\n",
              "    <tr>\n",
              "      <th>6</th>\n",
              "      <td>-0.008562</td>\n",
              "      <td>0.000290</td>\n",
              "      <td>-0.106319</td>\n",
              "      <td>0.994100</td>\n",
              "      <td>0.016428</td>\n",
              "      <td>0.009645</td>\n",
              "      <td>-0.005018</td>\n",
              "    </tr>\n",
              "  </tbody>\n",
              "</table>\n",
              "</div>"
            ],
            "text/plain": [
              "          0         1         2         3         4         5         6\n",
              "0 -0.341721 -0.091749 -0.019970  0.000974 -0.147115 -0.689915 -0.613827\n",
              "1 -0.729825 -0.528794 -0.072501 -0.011681 -0.048050  0.072128  0.418124\n",
              "2  0.456915 -0.704480  0.092410  0.008819  0.470463 -0.254073  0.020751\n",
              "3  0.352556 -0.342515 -0.014671  0.016485 -0.866344 -0.018391  0.083736\n",
              "4 -0.129442 -0.139019  0.854762  0.086144 -0.048649  0.350570 -0.317197\n",
              "5  0.026220  0.281111  0.493627  0.062108 -0.039051 -0.575267  0.583358\n",
              "6 -0.008562  0.000290 -0.106319  0.994100  0.016428  0.009645 -0.005018"
            ]
          },
          "metadata": {
            "tags": []
          },
          "execution_count": 21
        }
      ]
    },
    {
      "cell_type": "markdown",
      "metadata": {
        "id": "GI3BogvzkH6B",
        "colab_type": "text"
      },
      "source": [
        "### Problem 2d  (10 points)\n",
        "\n",
        "Compute the projection of the raw data onto the appropriate two eigenvectors.  Consider which columns should be projected and the normalizations."
      ]
    },
    {
      "cell_type": "markdown",
      "metadata": {
        "id": "9dcOPNn5kH6C",
        "colab_type": "text"
      },
      "source": [
        "###### I did this both ways for practice - with and without sklearn. Also used sklearn "
      ]
    },
    {
      "cell_type": "code",
      "metadata": {
        "id": "IBLck4iMkH6D",
        "colab_type": "code",
        "colab": {},
        "outputId": "d46f4db8-43e1-4dec-cfea-4673b8c25adf"
      },
      "source": [
        "pd.DataFrame(U)"
      ],
      "execution_count": null,
      "outputs": [
        {
          "output_type": "execute_result",
          "data": {
            "text/html": [
              "<div>\n",
              "<style scoped>\n",
              "    .dataframe tbody tr th:only-of-type {\n",
              "        vertical-align: middle;\n",
              "    }\n",
              "\n",
              "    .dataframe tbody tr th {\n",
              "        vertical-align: top;\n",
              "    }\n",
              "\n",
              "    .dataframe thead th {\n",
              "        text-align: right;\n",
              "    }\n",
              "</style>\n",
              "<table border=\"1\" class=\"dataframe\">\n",
              "  <thead>\n",
              "    <tr style=\"text-align: right;\">\n",
              "      <th></th>\n",
              "      <th>0</th>\n",
              "      <th>1</th>\n",
              "      <th>2</th>\n",
              "      <th>3</th>\n",
              "      <th>4</th>\n",
              "      <th>5</th>\n",
              "      <th>6</th>\n",
              "    </tr>\n",
              "  </thead>\n",
              "  <tbody>\n",
              "    <tr>\n",
              "      <th>0</th>\n",
              "      <td>-0.341721</td>\n",
              "      <td>-0.729825</td>\n",
              "      <td>0.456915</td>\n",
              "      <td>0.352556</td>\n",
              "      <td>-0.129442</td>\n",
              "      <td>0.026220</td>\n",
              "      <td>-0.008562</td>\n",
              "    </tr>\n",
              "    <tr>\n",
              "      <th>1</th>\n",
              "      <td>-0.091749</td>\n",
              "      <td>-0.528794</td>\n",
              "      <td>-0.704480</td>\n",
              "      <td>-0.342515</td>\n",
              "      <td>-0.139019</td>\n",
              "      <td>0.281111</td>\n",
              "      <td>0.000290</td>\n",
              "    </tr>\n",
              "    <tr>\n",
              "      <th>2</th>\n",
              "      <td>-0.019970</td>\n",
              "      <td>-0.072501</td>\n",
              "      <td>0.092410</td>\n",
              "      <td>-0.014671</td>\n",
              "      <td>0.854762</td>\n",
              "      <td>0.493627</td>\n",
              "      <td>-0.106319</td>\n",
              "    </tr>\n",
              "    <tr>\n",
              "      <th>3</th>\n",
              "      <td>0.000974</td>\n",
              "      <td>-0.011681</td>\n",
              "      <td>0.008819</td>\n",
              "      <td>0.016485</td>\n",
              "      <td>0.086144</td>\n",
              "      <td>0.062108</td>\n",
              "      <td>0.994100</td>\n",
              "    </tr>\n",
              "    <tr>\n",
              "      <th>4</th>\n",
              "      <td>-0.147115</td>\n",
              "      <td>-0.048050</td>\n",
              "      <td>0.470463</td>\n",
              "      <td>-0.866344</td>\n",
              "      <td>-0.048649</td>\n",
              "      <td>-0.039051</td>\n",
              "      <td>0.016428</td>\n",
              "    </tr>\n",
              "    <tr>\n",
              "      <th>5</th>\n",
              "      <td>-0.689915</td>\n",
              "      <td>0.072128</td>\n",
              "      <td>-0.254073</td>\n",
              "      <td>-0.018391</td>\n",
              "      <td>0.350570</td>\n",
              "      <td>-0.575267</td>\n",
              "      <td>0.009645</td>\n",
              "    </tr>\n",
              "    <tr>\n",
              "      <th>6</th>\n",
              "      <td>-0.613827</td>\n",
              "      <td>0.418124</td>\n",
              "      <td>0.020751</td>\n",
              "      <td>0.083736</td>\n",
              "      <td>-0.317197</td>\n",
              "      <td>0.583358</td>\n",
              "      <td>-0.005018</td>\n",
              "    </tr>\n",
              "  </tbody>\n",
              "</table>\n",
              "</div>"
            ],
            "text/plain": [
              "          0         1         2         3         4         5         6\n",
              "0 -0.341721 -0.729825  0.456915  0.352556 -0.129442  0.026220 -0.008562\n",
              "1 -0.091749 -0.528794 -0.704480 -0.342515 -0.139019  0.281111  0.000290\n",
              "2 -0.019970 -0.072501  0.092410 -0.014671  0.854762  0.493627 -0.106319\n",
              "3  0.000974 -0.011681  0.008819  0.016485  0.086144  0.062108  0.994100\n",
              "4 -0.147115 -0.048050  0.470463 -0.866344 -0.048649 -0.039051  0.016428\n",
              "5 -0.689915  0.072128 -0.254073 -0.018391  0.350570 -0.575267  0.009645\n",
              "6 -0.613827  0.418124  0.020751  0.083736 -0.317197  0.583358 -0.005018"
            ]
          },
          "metadata": {
            "tags": []
          },
          "execution_count": 22
        }
      ]
    },
    {
      "cell_type": "code",
      "metadata": {
        "id": "5wOxivblkH6E",
        "colab_type": "code",
        "colab": {},
        "outputId": "55cdd46d-4c18-4572-b189-07812ffc7052"
      },
      "source": [
        "featureVector = eigenvectors[:,np.argsort(-eigenvalues)][:,0:2] \n",
        "final_data = pd.DataFrame(np.dot(ecoli,featureVector))\n",
        "final_data"
      ],
      "execution_count": null,
      "outputs": [
        {
          "output_type": "execute_result",
          "data": {
            "text/html": [
              "<div>\n",
              "<style scoped>\n",
              "    .dataframe tbody tr th:only-of-type {\n",
              "        vertical-align: middle;\n",
              "    }\n",
              "\n",
              "    .dataframe tbody tr th {\n",
              "        vertical-align: top;\n",
              "    }\n",
              "\n",
              "    .dataframe thead th {\n",
              "        text-align: right;\n",
              "    }\n",
              "</style>\n",
              "<table border=\"1\" class=\"dataframe\">\n",
              "  <thead>\n",
              "    <tr style=\"text-align: right;\">\n",
              "      <th></th>\n",
              "      <th>0</th>\n",
              "      <th>1</th>\n",
              "    </tr>\n",
              "  </thead>\n",
              "  <tbody>\n",
              "    <tr>\n",
              "      <th>0</th>\n",
              "      <td>0.285601</td>\n",
              "      <td>0.035274</td>\n",
              "    </tr>\n",
              "    <tr>\n",
              "      <th>1</th>\n",
              "      <td>0.290838</td>\n",
              "      <td>0.330159</td>\n",
              "    </tr>\n",
              "    <tr>\n",
              "      <th>2</th>\n",
              "      <td>0.104676</td>\n",
              "      <td>-0.015248</td>\n",
              "    </tr>\n",
              "    <tr>\n",
              "      <th>3</th>\n",
              "      <td>0.087943</td>\n",
              "      <td>-0.122218</td>\n",
              "    </tr>\n",
              "    <tr>\n",
              "      <th>4</th>\n",
              "      <td>0.366268</td>\n",
              "      <td>0.210366</td>\n",
              "    </tr>\n",
              "    <tr>\n",
              "      <th>...</th>\n",
              "      <td>...</td>\n",
              "      <td>...</td>\n",
              "    </tr>\n",
              "    <tr>\n",
              "      <th>331</th>\n",
              "      <td>-0.084233</td>\n",
              "      <td>-0.274803</td>\n",
              "    </tr>\n",
              "    <tr>\n",
              "      <th>332</th>\n",
              "      <td>0.139026</td>\n",
              "      <td>-0.274116</td>\n",
              "    </tr>\n",
              "    <tr>\n",
              "      <th>333</th>\n",
              "      <td>0.111904</td>\n",
              "      <td>-0.187103</td>\n",
              "    </tr>\n",
              "    <tr>\n",
              "      <th>334</th>\n",
              "      <td>0.106204</td>\n",
              "      <td>-0.178851</td>\n",
              "    </tr>\n",
              "    <tr>\n",
              "      <th>335</th>\n",
              "      <td>-0.108764</td>\n",
              "      <td>-0.281129</td>\n",
              "    </tr>\n",
              "  </tbody>\n",
              "</table>\n",
              "<p>336 rows × 2 columns</p>\n",
              "</div>"
            ],
            "text/plain": [
              "            0         1\n",
              "0    0.285601  0.035274\n",
              "1    0.290838  0.330159\n",
              "2    0.104676 -0.015248\n",
              "3    0.087943 -0.122218\n",
              "4    0.366268  0.210366\n",
              "..        ...       ...\n",
              "331 -0.084233 -0.274803\n",
              "332  0.139026 -0.274116\n",
              "333  0.111904 -0.187103\n",
              "334  0.106204 -0.178851\n",
              "335 -0.108764 -0.281129\n",
              "\n",
              "[336 rows x 2 columns]"
            ]
          },
          "metadata": {
            "tags": []
          },
          "execution_count": 23
        }
      ]
    },
    {
      "cell_type": "code",
      "metadata": {
        "scrolled": true,
        "id": "ugkPpQAIkH6F",
        "colab_type": "code",
        "colab": {},
        "outputId": "b464de4d-eb18-4d37-cbf9-f849a7836e04"
      },
      "source": [
        "pca_ecoli = sklearn.decomposition.PCA(n_components=2).fit(ecoli)\n",
        "coef_PCA = pd.DataFrame(pca_ecoli.transform(ecoli))\n",
        "coef_PCA"
      ],
      "execution_count": null,
      "outputs": [
        {
          "output_type": "execute_result",
          "data": {
            "text/html": [
              "<div>\n",
              "<style scoped>\n",
              "    .dataframe tbody tr th:only-of-type {\n",
              "        vertical-align: middle;\n",
              "    }\n",
              "\n",
              "    .dataframe tbody tr th {\n",
              "        vertical-align: top;\n",
              "    }\n",
              "\n",
              "    .dataframe thead th {\n",
              "        text-align: right;\n",
              "    }\n",
              "</style>\n",
              "<table border=\"1\" class=\"dataframe\">\n",
              "  <thead>\n",
              "    <tr style=\"text-align: right;\">\n",
              "      <th></th>\n",
              "      <th>0</th>\n",
              "      <th>1</th>\n",
              "    </tr>\n",
              "  </thead>\n",
              "  <tbody>\n",
              "    <tr>\n",
              "      <th>0</th>\n",
              "      <td>-0.285601</td>\n",
              "      <td>-0.035274</td>\n",
              "    </tr>\n",
              "    <tr>\n",
              "      <th>1</th>\n",
              "      <td>-0.290838</td>\n",
              "      <td>-0.330159</td>\n",
              "    </tr>\n",
              "    <tr>\n",
              "      <th>2</th>\n",
              "      <td>-0.104676</td>\n",
              "      <td>0.015248</td>\n",
              "    </tr>\n",
              "    <tr>\n",
              "      <th>3</th>\n",
              "      <td>-0.087943</td>\n",
              "      <td>0.122218</td>\n",
              "    </tr>\n",
              "    <tr>\n",
              "      <th>4</th>\n",
              "      <td>-0.366268</td>\n",
              "      <td>-0.210366</td>\n",
              "    </tr>\n",
              "    <tr>\n",
              "      <th>...</th>\n",
              "      <td>...</td>\n",
              "      <td>...</td>\n",
              "    </tr>\n",
              "    <tr>\n",
              "      <th>331</th>\n",
              "      <td>0.084233</td>\n",
              "      <td>0.274803</td>\n",
              "    </tr>\n",
              "    <tr>\n",
              "      <th>332</th>\n",
              "      <td>-0.139026</td>\n",
              "      <td>0.274116</td>\n",
              "    </tr>\n",
              "    <tr>\n",
              "      <th>333</th>\n",
              "      <td>-0.111904</td>\n",
              "      <td>0.187103</td>\n",
              "    </tr>\n",
              "    <tr>\n",
              "      <th>334</th>\n",
              "      <td>-0.106204</td>\n",
              "      <td>0.178851</td>\n",
              "    </tr>\n",
              "    <tr>\n",
              "      <th>335</th>\n",
              "      <td>0.108764</td>\n",
              "      <td>0.281129</td>\n",
              "    </tr>\n",
              "  </tbody>\n",
              "</table>\n",
              "<p>336 rows × 2 columns</p>\n",
              "</div>"
            ],
            "text/plain": [
              "            0         1\n",
              "0   -0.285601 -0.035274\n",
              "1   -0.290838 -0.330159\n",
              "2   -0.104676  0.015248\n",
              "3   -0.087943  0.122218\n",
              "4   -0.366268 -0.210366\n",
              "..        ...       ...\n",
              "331  0.084233  0.274803\n",
              "332 -0.139026  0.274116\n",
              "333 -0.111904  0.187103\n",
              "334 -0.106204  0.178851\n",
              "335  0.108764  0.281129\n",
              "\n",
              "[336 rows x 2 columns]"
            ]
          },
          "metadata": {
            "tags": []
          },
          "execution_count": 24
        }
      ]
    },
    {
      "cell_type": "code",
      "metadata": {
        "id": "J_K2qvUBkH6G",
        "colab_type": "code",
        "colab": {},
        "outputId": "f0cda004-682a-4127-ee9b-82e9b1a31c7f"
      },
      "source": [
        "ecoli.head()"
      ],
      "execution_count": null,
      "outputs": [
        {
          "output_type": "execute_result",
          "data": {
            "text/html": [
              "<div>\n",
              "<style scoped>\n",
              "    .dataframe tbody tr th:only-of-type {\n",
              "        vertical-align: middle;\n",
              "    }\n",
              "\n",
              "    .dataframe tbody tr th {\n",
              "        vertical-align: top;\n",
              "    }\n",
              "\n",
              "    .dataframe thead th {\n",
              "        text-align: right;\n",
              "    }\n",
              "</style>\n",
              "<table border=\"1\" class=\"dataframe\">\n",
              "  <thead>\n",
              "    <tr style=\"text-align: right;\">\n",
              "      <th></th>\n",
              "      <th>mcg</th>\n",
              "      <th>gvh</th>\n",
              "      <th>lip</th>\n",
              "      <th>chg</th>\n",
              "      <th>aac</th>\n",
              "      <th>alm1</th>\n",
              "      <th>alm2</th>\n",
              "    </tr>\n",
              "  </thead>\n",
              "  <tbody>\n",
              "    <tr>\n",
              "      <th>0</th>\n",
              "      <td>-0.01006</td>\n",
              "      <td>-0.21</td>\n",
              "      <td>-0.015476</td>\n",
              "      <td>-0.001488</td>\n",
              "      <td>0.05997</td>\n",
              "      <td>-0.260179</td>\n",
              "      <td>-0.149732</td>\n",
              "    </tr>\n",
              "    <tr>\n",
              "      <th>1</th>\n",
              "      <td>-0.43006</td>\n",
              "      <td>-0.10</td>\n",
              "      <td>-0.015476</td>\n",
              "      <td>-0.001488</td>\n",
              "      <td>0.03997</td>\n",
              "      <td>-0.150179</td>\n",
              "      <td>-0.059732</td>\n",
              "    </tr>\n",
              "    <tr>\n",
              "      <th>2</th>\n",
              "      <td>0.05994</td>\n",
              "      <td>-0.10</td>\n",
              "      <td>-0.015476</td>\n",
              "      <td>-0.001488</td>\n",
              "      <td>-0.01003</td>\n",
              "      <td>-0.130179</td>\n",
              "      <td>-0.039732</td>\n",
              "    </tr>\n",
              "    <tr>\n",
              "      <th>3</th>\n",
              "      <td>0.08994</td>\n",
              "      <td>-0.01</td>\n",
              "      <td>-0.015476</td>\n",
              "      <td>-0.001488</td>\n",
              "      <td>0.01997</td>\n",
              "      <td>-0.050179</td>\n",
              "      <td>-0.139732</td>\n",
              "    </tr>\n",
              "    <tr>\n",
              "      <th>4</th>\n",
              "      <td>-0.27006</td>\n",
              "      <td>-0.18</td>\n",
              "      <td>-0.015476</td>\n",
              "      <td>-0.001488</td>\n",
              "      <td>0.04997</td>\n",
              "      <td>-0.250179</td>\n",
              "      <td>-0.149732</td>\n",
              "    </tr>\n",
              "  </tbody>\n",
              "</table>\n",
              "</div>"
            ],
            "text/plain": [
              "       mcg   gvh       lip       chg      aac      alm1      alm2\n",
              "0 -0.01006 -0.21 -0.015476 -0.001488  0.05997 -0.260179 -0.149732\n",
              "1 -0.43006 -0.10 -0.015476 -0.001488  0.03997 -0.150179 -0.059732\n",
              "2  0.05994 -0.10 -0.015476 -0.001488 -0.01003 -0.130179 -0.039732\n",
              "3  0.08994 -0.01 -0.015476 -0.001488  0.01997 -0.050179 -0.139732\n",
              "4 -0.27006 -0.18 -0.015476 -0.001488  0.04997 -0.250179 -0.149732"
            ]
          },
          "metadata": {
            "tags": []
          },
          "execution_count": 45
        }
      ]
    },
    {
      "cell_type": "code",
      "metadata": {
        "scrolled": false,
        "id": "hm2UnVtwkH6H",
        "colab_type": "code",
        "colab": {},
        "outputId": "b170a960-07f2-494a-b007-764d2a5d5e48"
      },
      "source": [
        "plt.figure(figsize=(10,6))\n",
        "plt.scatter(coef_PCA.iloc[:,0], coef_PCA.iloc[:,1], s = 70, zorder=0, c=dark2_colors[0])\n",
        "# for i in range(coef_PCA.shape[0]):\n",
        "#     plt.text(coef_PCA.iloc[i,0]+.1, coef_PCA.iloc[i,1], ecoli[i]['state'], zorder=1, size=12, color=shade_black) \n",
        "plt.ylabel('2nd Principal component' )\n",
        "plt.xlabel('1st Principal component' )\n",
        "plt.title('PC2 vs. PC1')\n",
        "plt.show()"
      ],
      "execution_count": null,
      "outputs": [
        {
          "output_type": "display_data",
          "data": {
            "image/png": "[encoded data removed]",
            "text/plain": [
              "<Figure size 720x432 with 1 Axes>"
            ]
          },
          "metadata": {
            "tags": [],
            "needs_background": "light"
          }
        }
      ]
    },
    {
      "cell_type": "markdown",
      "metadata": {
        "id": "0I44KiDmkH6I",
        "colab_type": "text"
      },
      "source": [
        "### Problem 2f (5 points)\n",
        "\n",
        "All PCA plots require a qualification of the fraction of variance captured in the plot.  Compute this here."
      ]
    },
    {
      "cell_type": "code",
      "metadata": {
        "id": "i7goxGaQkH6J",
        "colab_type": "code",
        "colab": {},
        "outputId": "a83d3570-6a76-4f26-e028-6b1ab10106cc"
      },
      "source": [
        "pca_ecoli.explained_variance_ratio_.cumsum()*100."
      ],
      "execution_count": null,
      "outputs": [
        {
          "output_type": "execute_result",
          "data": {
            "text/plain": [
              "array([51.61680984, 76.03714978])"
            ]
          },
          "metadata": {
            "tags": []
          },
          "execution_count": 51
        }
      ]
    },
    {
      "cell_type": "markdown",
      "metadata": {
        "id": "9znHZmmokH6K",
        "colab_type": "text"
      },
      "source": [
        "the above array tells me that the first vector explains about half the variance, the second another 25% which leads to a cumulative explanation of 76.03"
      ]
    },
    {
      "cell_type": "markdown",
      "metadata": {
        "id": "MDn2U6qdkH6K",
        "colab_type": "text"
      },
      "source": [
        "## Problem 3  MDS vs. tSNE  (15 points)\n",
        "\n",
        "### Problem 3a (5 points)\n",
        "\n",
        "For the same data set, repeat 2e using sklearn's Multidimensional scaling algorithm. How does it compare?"
      ]
    },
    {
      "cell_type": "code",
      "metadata": {
        "id": "bM4uIyw1kH6K",
        "colab_type": "code",
        "colab": {}
      },
      "source": [
        "from sklearn.manifold import MDS\n",
        "from sklearn.metrics import euclidean_distances"
      ],
      "execution_count": null,
      "outputs": []
    },
    {
      "cell_type": "code",
      "metadata": {
        "id": "_9TGiS56kH6L",
        "colab_type": "code",
        "colab": {},
        "outputId": "71396f62-7edf-401c-bf53-0bc8a17f93b8"
      },
      "source": [
        "ecoli.shape"
      ],
      "execution_count": null,
      "outputs": [
        {
          "output_type": "execute_result",
          "data": {
            "text/plain": [
              "(336, 7)"
            ]
          },
          "metadata": {
            "tags": []
          },
          "execution_count": 53
        }
      ]
    },
    {
      "cell_type": "code",
      "metadata": {
        "scrolled": true,
        "id": "2eoA1s0BkH6O",
        "colab_type": "code",
        "colab": {},
        "outputId": "8d75ffae-0e7c-45e5-cf39-944b24587ddd"
      },
      "source": [
        "ecoli_mds = MDS(n_components=2, random_state=99).fit_transform(ecoli)\n",
        "ecoli_mds = pd.DataFrame(ecoli_mds)\n",
        "ecoli_mds"
      ],
      "execution_count": null,
      "outputs": [
        {
          "output_type": "execute_result",
          "data": {
            "text/html": [
              "<div>\n",
              "<style scoped>\n",
              "    .dataframe tbody tr th:only-of-type {\n",
              "        vertical-align: middle;\n",
              "    }\n",
              "\n",
              "    .dataframe tbody tr th {\n",
              "        vertical-align: top;\n",
              "    }\n",
              "\n",
              "    .dataframe thead th {\n",
              "        text-align: right;\n",
              "    }\n",
              "</style>\n",
              "<table border=\"1\" class=\"dataframe\">\n",
              "  <thead>\n",
              "    <tr style=\"text-align: right;\">\n",
              "      <th></th>\n",
              "      <th>0</th>\n",
              "      <th>1</th>\n",
              "    </tr>\n",
              "  </thead>\n",
              "  <tbody>\n",
              "    <tr>\n",
              "      <th>0</th>\n",
              "      <td>0.363147</td>\n",
              "      <td>-0.044610</td>\n",
              "    </tr>\n",
              "    <tr>\n",
              "      <th>1</th>\n",
              "      <td>0.246505</td>\n",
              "      <td>-0.412143</td>\n",
              "    </tr>\n",
              "    <tr>\n",
              "      <th>2</th>\n",
              "      <td>0.107012</td>\n",
              "      <td>0.001281</td>\n",
              "    </tr>\n",
              "    <tr>\n",
              "      <th>3</th>\n",
              "      <td>0.101875</td>\n",
              "      <td>0.089609</td>\n",
              "    </tr>\n",
              "    <tr>\n",
              "      <th>4</th>\n",
              "      <td>0.361504</td>\n",
              "      <td>-0.275179</td>\n",
              "    </tr>\n",
              "    <tr>\n",
              "      <th>...</th>\n",
              "      <td>...</td>\n",
              "      <td>...</td>\n",
              "    </tr>\n",
              "    <tr>\n",
              "      <th>331</th>\n",
              "      <td>-0.053151</td>\n",
              "      <td>0.325438</td>\n",
              "    </tr>\n",
              "    <tr>\n",
              "      <th>332</th>\n",
              "      <td>0.210938</td>\n",
              "      <td>0.208428</td>\n",
              "    </tr>\n",
              "    <tr>\n",
              "      <th>333</th>\n",
              "      <td>0.145046</td>\n",
              "      <td>0.140858</td>\n",
              "    </tr>\n",
              "    <tr>\n",
              "      <th>334</th>\n",
              "      <td>0.135667</td>\n",
              "      <td>0.137409</td>\n",
              "    </tr>\n",
              "    <tr>\n",
              "      <th>335</th>\n",
              "      <td>-0.067897</td>\n",
              "      <td>0.345631</td>\n",
              "    </tr>\n",
              "  </tbody>\n",
              "</table>\n",
              "<p>336 rows × 2 columns</p>\n",
              "</div>"
            ],
            "text/plain": [
              "            0         1\n",
              "0    0.363147 -0.044610\n",
              "1    0.246505 -0.412143\n",
              "2    0.107012  0.001281\n",
              "3    0.101875  0.089609\n",
              "4    0.361504 -0.275179\n",
              "..        ...       ...\n",
              "331 -0.053151  0.325438\n",
              "332  0.210938  0.208428\n",
              "333  0.145046  0.140858\n",
              "334  0.135667  0.137409\n",
              "335 -0.067897  0.345631\n",
              "\n",
              "[336 rows x 2 columns]"
            ]
          },
          "metadata": {
            "tags": []
          },
          "execution_count": 54
        }
      ]
    },
    {
      "cell_type": "code",
      "metadata": {
        "scrolled": true,
        "id": "_qBsSpTVkH6Q",
        "colab_type": "code",
        "colab": {},
        "outputId": "0ec32f65-ebef-4afe-febe-bd9798cf816e"
      },
      "source": [
        "plt.scatter(x=ecoli_mds[0],y=ecoli_mds[1])"
      ],
      "execution_count": null,
      "outputs": [
        {
          "output_type": "execute_result",
          "data": {
            "text/plain": [
              "<matplotlib.collections.PathCollection at 0x7f7f870e4bd0>"
            ]
          },
          "metadata": {
            "tags": []
          },
          "execution_count": 55
        },
        {
          "output_type": "display_data",
          "data": {
            "image/png": "[encoded data removed]",
            "text/plain": [
              "<Figure size 432x288 with 1 Axes>"
            ]
          },
          "metadata": {
            "tags": [],
            "needs_background": "light"
          }
        }
      ]
    },
    {
      "cell_type": "markdown",
      "metadata": {
        "id": "yc-MgBUfkH6R",
        "colab_type": "text"
      },
      "source": [
        "we do get a slight grouping / clustering here.  You can make out around three clusters. "
      ]
    },
    {
      "cell_type": "markdown",
      "metadata": {
        "id": "TssD3wpjkH6R",
        "colab_type": "text"
      },
      "source": [
        "### Problem 3b  t-SNE  (5 points)\n",
        "\n",
        "Repeat 2e using a t-SNE plot with the default settings."
      ]
    },
    {
      "cell_type": "code",
      "metadata": {
        "id": "LWYccrdwkH6R",
        "colab_type": "code",
        "colab": {}
      },
      "source": [
        "from sklearn.manifold import TSNE"
      ],
      "execution_count": null,
      "outputs": []
    },
    {
      "cell_type": "code",
      "metadata": {
        "id": "V72tcMHPkH6S",
        "colab_type": "code",
        "colab": {}
      },
      "source": [
        "#using the default TSNE settings, EXCEPT random_state so that my results are reproducable. \n",
        "ecoli_tsne = TSNE(random_state=14).fit_transform(ecoli)"
      ],
      "execution_count": null,
      "outputs": []
    },
    {
      "cell_type": "code",
      "metadata": {
        "scrolled": true,
        "id": "l5SsH-sakH6T",
        "colab_type": "code",
        "colab": {},
        "outputId": "4360720a-8a9c-4169-a303-479dba477f70"
      },
      "source": [
        "ecoli_tsne=pd.DataFrame(ecoli_tsne)\n",
        "ecoli_tsne"
      ],
      "execution_count": null,
      "outputs": [
        {
          "output_type": "execute_result",
          "data": {
            "text/html": [
              "<div>\n",
              "<style scoped>\n",
              "    .dataframe tbody tr th:only-of-type {\n",
              "        vertical-align: middle;\n",
              "    }\n",
              "\n",
              "    .dataframe tbody tr th {\n",
              "        vertical-align: top;\n",
              "    }\n",
              "\n",
              "    .dataframe thead th {\n",
              "        text-align: right;\n",
              "    }\n",
              "</style>\n",
              "<table border=\"1\" class=\"dataframe\">\n",
              "  <thead>\n",
              "    <tr style=\"text-align: right;\">\n",
              "      <th></th>\n",
              "      <th>0</th>\n",
              "      <th>1</th>\n",
              "    </tr>\n",
              "  </thead>\n",
              "  <tbody>\n",
              "    <tr>\n",
              "      <th>0</th>\n",
              "      <td>13.403618</td>\n",
              "      <td>7.978974</td>\n",
              "    </tr>\n",
              "    <tr>\n",
              "      <th>1</th>\n",
              "      <td>14.361468</td>\n",
              "      <td>-3.986748</td>\n",
              "    </tr>\n",
              "    <tr>\n",
              "      <th>2</th>\n",
              "      <td>6.945486</td>\n",
              "      <td>9.211404</td>\n",
              "    </tr>\n",
              "    <tr>\n",
              "      <th>3</th>\n",
              "      <td>-0.247546</td>\n",
              "      <td>12.035241</td>\n",
              "    </tr>\n",
              "    <tr>\n",
              "      <th>4</th>\n",
              "      <td>16.587812</td>\n",
              "      <td>-1.988270</td>\n",
              "    </tr>\n",
              "    <tr>\n",
              "      <th>...</th>\n",
              "      <td>...</td>\n",
              "      <td>...</td>\n",
              "    </tr>\n",
              "    <tr>\n",
              "      <th>331</th>\n",
              "      <td>-2.791671</td>\n",
              "      <td>9.884847</td>\n",
              "    </tr>\n",
              "    <tr>\n",
              "      <th>332</th>\n",
              "      <td>-1.973071</td>\n",
              "      <td>13.917069</td>\n",
              "    </tr>\n",
              "    <tr>\n",
              "      <th>333</th>\n",
              "      <td>-1.141938</td>\n",
              "      <td>13.750688</td>\n",
              "    </tr>\n",
              "    <tr>\n",
              "      <th>334</th>\n",
              "      <td>-0.872766</td>\n",
              "      <td>13.995859</td>\n",
              "    </tr>\n",
              "    <tr>\n",
              "      <th>335</th>\n",
              "      <td>-5.730402</td>\n",
              "      <td>20.144529</td>\n",
              "    </tr>\n",
              "  </tbody>\n",
              "</table>\n",
              "<p>336 rows × 2 columns</p>\n",
              "</div>"
            ],
            "text/plain": [
              "             0          1\n",
              "0    13.403618   7.978974\n",
              "1    14.361468  -3.986748\n",
              "2     6.945486   9.211404\n",
              "3    -0.247546  12.035241\n",
              "4    16.587812  -1.988270\n",
              "..         ...        ...\n",
              "331  -2.791671   9.884847\n",
              "332  -1.973071  13.917069\n",
              "333  -1.141938  13.750688\n",
              "334  -0.872766  13.995859\n",
              "335  -5.730402  20.144529\n",
              "\n",
              "[336 rows x 2 columns]"
            ]
          },
          "metadata": {
            "tags": []
          },
          "execution_count": 61
        }
      ]
    },
    {
      "cell_type": "code",
      "metadata": {
        "scrolled": true,
        "id": "qPewoxVVkH6W",
        "colab_type": "code",
        "colab": {},
        "outputId": "0d6a66e6-b9c8-4285-ed1e-50bfcaabf7db"
      },
      "source": [
        "ecoli_tsne.columns = ['_DIM_1_','_DIM_2_']\n",
        "sns.set_context(\"notebook\", font_scale=1.1)\n",
        "sns.set_style(\"ticks\")\n",
        "\n",
        "sns.lmplot(x='_DIM_1_',\n",
        "           y='_DIM_2_',\n",
        "           data=ecoli_tsne,\n",
        "           fit_reg=False,\n",
        "           legend=True,\n",
        "           height=6,\n",
        "           scatter_kws={\"s\":50, \"alpha\":1})\n",
        "\n",
        "plt.title('t-SNE Results: ecoli', weight='bold').set_fontsize('14')\n",
        "plt.xlabel('Dimension 1', weight='bold').set_fontsize('10')\n",
        "plt.ylabel('Dimension 2', weight='bold').set_fontsize('10')"
      ],
      "execution_count": null,
      "outputs": [
        {
          "output_type": "display_data",
          "data": {
            "image/png": "[encoded data removed]",
            "text/plain": [
              "<Figure size 432x432 with 1 Axes>"
            ]
          },
          "metadata": {
            "tags": []
          }
        }
      ]
    },
    {
      "cell_type": "code",
      "metadata": {
        "id": "f6lyPAuykH6X",
        "colab_type": "code",
        "colab": {}
      },
      "source": [
        "This actually looks a bit cleaner than the MDS grouping - more distinct clustering around the three means.  "
      ],
      "execution_count": null,
      "outputs": []
    },
    {
      "cell_type": "markdown",
      "metadata": {
        "id": "YdI7VdI7kH6Y",
        "colab_type": "text"
      },
      "source": [
        "### Problem 3c t-SNE perplexity  (5 points)\n",
        "\n",
        "Try out a few t-SNE plots for the same data set by varying the perplexity or other parameters.  State the best perplexity for separating the 8 different classes and describe your rationale in a sentence or two.  "
      ]
    },
    {
      "cell_type": "markdown",
      "metadata": {
        "id": "ye83CGzUkH6Y",
        "colab_type": "text"
      },
      "source": [
        "perplexity is basically the tuning fork between the local vs global focus in this visualization method.  "
      ]
    },
    {
      "cell_type": "code",
      "metadata": {
        "scrolled": true,
        "id": "n3O-PSP0kH6Y",
        "colab_type": "code",
        "colab": {},
        "outputId": "1190c7f6-7211-49b7-bcaa-aba5219f7ca4"
      },
      "source": [
        "ecoli_tsne = pd.DataFrame(TSNE(n_components=2,random_state=14,perplexity=55).fit_transform(ecoli))\n",
        "ecoli_tsne\n",
        "\n",
        "ecoli_tsne.columns = ['_DIM_1_','_DIM_2_']\n",
        "sns.set_context(\"notebook\", font_scale=1.1)\n",
        "sns.set_style(\"ticks\")\n",
        "\n",
        "sns.lmplot(x='_DIM_1_',\n",
        "           y='_DIM_2_',\n",
        "           data=ecoli_tsne,\n",
        "           fit_reg=False,\n",
        "           legend=True,\n",
        "           height=6,\n",
        "           scatter_kws={\"s\":50, \"alpha\":1})\n",
        "\n",
        "plt.title('t-SNE Results: ecoli', weight='bold').set_fontsize('14')\n",
        "plt.xlabel('Dimension 1', weight='bold').set_fontsize('10')\n",
        "plt.ylabel('Dimension 2', weight='bold').set_fontsize('10')"
      ],
      "execution_count": null,
      "outputs": [
        {
          "output_type": "display_data",
          "data": {
            "image/png": "[encoded data removed]",
            "text/plain": [
              "<Figure size 432x432 with 1 Axes>"
            ]
          },
          "metadata": {
            "tags": []
          }
        }
      ]
    },
    {
      "cell_type": "code",
      "metadata": {
        "id": "y-uOw9QZkH6Z",
        "colab_type": "code",
        "colab": {},
        "outputId": "07fce31c-8e38-47ec-f6f2-9a99492d626c"
      },
      "source": [
        "ecoli_tsne = pd.DataFrame(TSNE(n_components=2,random_state=14,perplexity=55,learning_rate=500).fit_transform(ecoli))\n",
        "ecoli_tsne\n",
        "\n",
        "ecoli_tsne.columns = ['_DIM_1_','_DIM_2_']\n",
        "sns.set_context(\"notebook\", font_scale=1.1)\n",
        "sns.set_style(\"ticks\")\n",
        "\n",
        "sns.lmplot(x='_DIM_1_',\n",
        "           y='_DIM_2_',\n",
        "           data=ecoli_tsne,\n",
        "           fit_reg=False,\n",
        "           legend=True,\n",
        "           height=6,\n",
        "           scatter_kws={\"s\":50, \"alpha\":1})\n",
        "\n",
        "plt.title('t-SNE Results: ecoli', weight='bold').set_fontsize('14')\n",
        "plt.xlabel('Dimension 1', weight='bold').set_fontsize('10')\n",
        "plt.ylabel('Dimension 2', weight='bold').set_fontsize('10')"
      ],
      "execution_count": null,
      "outputs": [
        {
          "output_type": "display_data",
          "data": {
            "image/png": "[encoded data removed]",
            "text/plain": [
              "<Figure size 432x432 with 1 Axes>"
            ]
          },
          "metadata": {
            "tags": []
          }
        }
      ]
    },
    {
      "cell_type": "code",
      "metadata": {
        "id": "5KgdHVBNkH6a",
        "colab_type": "code",
        "colab": {},
        "outputId": "8e8e97f9-f91c-4f2f-83e5-61ea3dff50e1"
      },
      "source": [
        "ecoli_tsne = pd.DataFrame(TSNE(n_components=2,random_state=14,perplexity=500).fit_transform(ecoli))\n",
        "ecoli_tsne\n",
        "\n",
        "ecoli_tsne.columns = ['_DIM_1_','_DIM_2_']\n",
        "sns.set_context(\"notebook\", font_scale=1.1)\n",
        "sns.set_style(\"ticks\")\n",
        "\n",
        "sns.lmplot(x='_DIM_1_',\n",
        "           y='_DIM_2_',\n",
        "           data=ecoli_tsne,\n",
        "           fit_reg=False,\n",
        "           legend=True,\n",
        "           height=6,\n",
        "           scatter_kws={\"s\":50, \"alpha\":1})\n",
        "\n",
        "plt.title('t-SNE Results: ecoli', weight='bold').set_fontsize('14')\n",
        "plt.xlabel('Dimension 1', weight='bold').set_fontsize('10')\n",
        "plt.ylabel('Dimension 2', weight='bold').set_fontsize('10')"
      ],
      "execution_count": null,
      "outputs": [
        {
          "output_type": "display_data",
          "data": {
            "image/png": "[encoded data removed]",
            "text/plain": [
              "<Figure size 432x432 with 1 Axes>"
            ]
          },
          "metadata": {
            "tags": []
          }
        }
      ]
    },
    {
      "cell_type": "code",
      "metadata": {
        "id": "Nfy0DGzEkH6c",
        "colab_type": "code",
        "colab": {},
        "outputId": "fcb4b030-2568-4b7c-d2f9-99bd82aca2f7"
      },
      "source": [
        "ecoli_tsne = pd.DataFrame(TSNE(n_components=2,random_state=14,perplexity=55,learning_rate=55).fit_transform(ecoli))\n",
        "ecoli_tsne\n",
        "\n",
        "ecoli_tsne.columns = ['_DIM_1_','_DIM_2_']\n",
        "sns.set_context(\"notebook\", font_scale=1.1)\n",
        "sns.set_style(\"ticks\")\n",
        "\n",
        "sns.lmplot(x='_DIM_1_',\n",
        "           y='_DIM_2_',\n",
        "           data=ecoli_tsne,\n",
        "           fit_reg=False,\n",
        "           legend=True,\n",
        "           height=6,\n",
        "           scatter_kws={\"s\":50, \"alpha\":1})\n",
        "\n",
        "plt.title('t-SNE Results: ecoli', weight='bold').set_fontsize('14')\n",
        "plt.xlabel('Dimension 1', weight='bold').set_fontsize('10')\n",
        "plt.ylabel('Dimension 2', weight='bold').set_fontsize('10')"
      ],
      "execution_count": null,
      "outputs": [
        {
          "output_type": "display_data",
          "data": {
            "image/png": "[encoded data removed]",
            "text/plain": [
              "<Figure size 432x432 with 1 Axes>"
            ]
          },
          "metadata": {
            "tags": []
          }
        }
      ]
    },
    {
      "cell_type": "markdown",
      "metadata": {
        "id": "saiqtq44kH6i",
        "colab_type": "text"
      },
      "source": [
        "## Problem 4 PCA vs. tSNE vs. UMAP (30 points)\n",
        "\n",
        "This problem works with the NYT Covid data set available here: https://github.com/nytimes/covid-19-data/blob/master/us-counties.csv.  I've downloaded and pivoted a copy of the data called covid_cases_countY_by_date.txt, but you may want to go back to the original data.  \n",
        "\n",
        "The pivoted file shows the number of new cases per day for each US county.  For this problem, we are asking you to characterize the shapes of the curves over time.  This means you will want to normalize by row before you start working with the data.  "
      ]
    },
    {
      "cell_type": "markdown",
      "metadata": {
        "id": "4NOXb89rkH6i",
        "colab_type": "text"
      },
      "source": [
        "### Problem 4a (5 points)\n",
        "\n",
        "Devise a scheme for coloring the data in a sensible way as part of an exploratory analysis.  Essentially, you're creating a new column of data that won't be used in the creation of the x-y points, but will be used to color them.  You can use the raw data, clustering, add in a separate data set, or anything else.  If you're clustering, include the code here.  Otherwise you can just tell us your criteria that you will use to color the plots for the remainder.  "
      ]
    },
    {
      "cell_type": "code",
      "metadata": {
        "id": "dJIa4HXtkH6i",
        "colab_type": "code",
        "colab": {},
        "outputId": "b0fa78b1-087a-4fb8-df20-76e81ce4f8ce"
      },
      "source": [
        "covid_raw = pd.read_csv(\"covd-us-counties.csv\")\n",
        "covid_pivot = pd.read_csv('covid_cases_county_by_date.txt', sep='\\t')\n",
        "covid_pivot = covid_pivot.fillna(0)\n",
        "covid_raw.head()"
      ],
      "execution_count": null,
      "outputs": [
        {
          "output_type": "execute_result",
          "data": {
            "text/html": [
              "<div>\n",
              "<style scoped>\n",
              "    .dataframe tbody tr th:only-of-type {\n",
              "        vertical-align: middle;\n",
              "    }\n",
              "\n",
              "    .dataframe tbody tr th {\n",
              "        vertical-align: top;\n",
              "    }\n",
              "\n",
              "    .dataframe thead th {\n",
              "        text-align: right;\n",
              "    }\n",
              "</style>\n",
              "<table border=\"1\" class=\"dataframe\">\n",
              "  <thead>\n",
              "    <tr style=\"text-align: right;\">\n",
              "      <th></th>\n",
              "      <th>date</th>\n",
              "      <th>county</th>\n",
              "      <th>state</th>\n",
              "      <th>fips</th>\n",
              "      <th>cases</th>\n",
              "      <th>deaths</th>\n",
              "    </tr>\n",
              "  </thead>\n",
              "  <tbody>\n",
              "    <tr>\n",
              "      <th>0</th>\n",
              "      <td>2020-01-21</td>\n",
              "      <td>Snohomish</td>\n",
              "      <td>Washington</td>\n",
              "      <td>53061.0</td>\n",
              "      <td>1</td>\n",
              "      <td>0</td>\n",
              "    </tr>\n",
              "    <tr>\n",
              "      <th>1</th>\n",
              "      <td>2020-01-22</td>\n",
              "      <td>Snohomish</td>\n",
              "      <td>Washington</td>\n",
              "      <td>53061.0</td>\n",
              "      <td>1</td>\n",
              "      <td>0</td>\n",
              "    </tr>\n",
              "    <tr>\n",
              "      <th>2</th>\n",
              "      <td>2020-01-23</td>\n",
              "      <td>Snohomish</td>\n",
              "      <td>Washington</td>\n",
              "      <td>53061.0</td>\n",
              "      <td>1</td>\n",
              "      <td>0</td>\n",
              "    </tr>\n",
              "    <tr>\n",
              "      <th>3</th>\n",
              "      <td>2020-01-24</td>\n",
              "      <td>Cook</td>\n",
              "      <td>Illinois</td>\n",
              "      <td>17031.0</td>\n",
              "      <td>1</td>\n",
              "      <td>0</td>\n",
              "    </tr>\n",
              "    <tr>\n",
              "      <th>4</th>\n",
              "      <td>2020-01-24</td>\n",
              "      <td>Snohomish</td>\n",
              "      <td>Washington</td>\n",
              "      <td>53061.0</td>\n",
              "      <td>1</td>\n",
              "      <td>0</td>\n",
              "    </tr>\n",
              "  </tbody>\n",
              "</table>\n",
              "</div>"
            ],
            "text/plain": [
              "         date     county       state     fips  cases  deaths\n",
              "0  2020-01-21  Snohomish  Washington  53061.0      1       0\n",
              "1  2020-01-22  Snohomish  Washington  53061.0      1       0\n",
              "2  2020-01-23  Snohomish  Washington  53061.0      1       0\n",
              "3  2020-01-24       Cook    Illinois  17031.0      1       0\n",
              "4  2020-01-24  Snohomish  Washington  53061.0      1       0"
            ]
          },
          "metadata": {
            "tags": []
          },
          "execution_count": 67
        }
      ]
    },
    {
      "cell_type": "code",
      "metadata": {
        "id": "qLVAYOwykH6k",
        "colab_type": "code",
        "colab": {},
        "outputId": "ff07d801-f068-4aa9-8eb7-acffa55aee71"
      },
      "source": [
        "covid_pivot"
      ],
      "execution_count": null,
      "outputs": [
        {
          "output_type": "execute_result",
          "data": {
            "text/html": [
              "<div>\n",
              "<style scoped>\n",
              "    .dataframe tbody tr th:only-of-type {\n",
              "        vertical-align: middle;\n",
              "    }\n",
              "\n",
              "    .dataframe tbody tr th {\n",
              "        vertical-align: top;\n",
              "    }\n",
              "\n",
              "    .dataframe thead th {\n",
              "        text-align: right;\n",
              "    }\n",
              "</style>\n",
              "<table border=\"1\" class=\"dataframe\">\n",
              "  <thead>\n",
              "    <tr style=\"text-align: right;\">\n",
              "      <th></th>\n",
              "      <th>Country</th>\n",
              "      <th>21-Jan</th>\n",
              "      <th>22-Jan</th>\n",
              "      <th>23-Jan</th>\n",
              "      <th>24-Jan</th>\n",
              "      <th>25-Jan</th>\n",
              "      <th>26-Jan</th>\n",
              "      <th>27-Jan</th>\n",
              "      <th>28-Jan</th>\n",
              "      <th>29-Jan</th>\n",
              "      <th>...</th>\n",
              "      <th>25-Aug</th>\n",
              "      <th>26-Aug</th>\n",
              "      <th>27-Aug</th>\n",
              "      <th>28-Aug</th>\n",
              "      <th>29-Aug</th>\n",
              "      <th>30-Aug</th>\n",
              "      <th>31-Aug</th>\n",
              "      <th>1-Sep</th>\n",
              "      <th>2-Sep</th>\n",
              "      <th>Grand Total</th>\n",
              "    </tr>\n",
              "  </thead>\n",
              "  <tbody>\n",
              "    <tr>\n",
              "      <th>0</th>\n",
              "      <td>Abbeville</td>\n",
              "      <td>0.0</td>\n",
              "      <td>0.0</td>\n",
              "      <td>0.0</td>\n",
              "      <td>0.0</td>\n",
              "      <td>0.0</td>\n",
              "      <td>0.0</td>\n",
              "      <td>0.0</td>\n",
              "      <td>0.0</td>\n",
              "      <td>0.0</td>\n",
              "      <td>...</td>\n",
              "      <td>388.0</td>\n",
              "      <td>393.0</td>\n",
              "      <td>394</td>\n",
              "      <td>404</td>\n",
              "      <td>406</td>\n",
              "      <td>415</td>\n",
              "      <td>418</td>\n",
              "      <td>434</td>\n",
              "      <td>439</td>\n",
              "      <td>21643</td>\n",
              "    </tr>\n",
              "    <tr>\n",
              "      <th>1</th>\n",
              "      <td>Acadia</td>\n",
              "      <td>0.0</td>\n",
              "      <td>0.0</td>\n",
              "      <td>0.0</td>\n",
              "      <td>0.0</td>\n",
              "      <td>0.0</td>\n",
              "      <td>0.0</td>\n",
              "      <td>0.0</td>\n",
              "      <td>0.0</td>\n",
              "      <td>0.0</td>\n",
              "      <td>...</td>\n",
              "      <td>2776.0</td>\n",
              "      <td>2775.0</td>\n",
              "      <td>2781</td>\n",
              "      <td>2799</td>\n",
              "      <td>2799</td>\n",
              "      <td>2808</td>\n",
              "      <td>2809</td>\n",
              "      <td>2817</td>\n",
              "      <td>2821</td>\n",
              "      <td>166284</td>\n",
              "    </tr>\n",
              "    <tr>\n",
              "      <th>2</th>\n",
              "      <td>Accomack</td>\n",
              "      <td>0.0</td>\n",
              "      <td>0.0</td>\n",
              "      <td>0.0</td>\n",
              "      <td>0.0</td>\n",
              "      <td>0.0</td>\n",
              "      <td>0.0</td>\n",
              "      <td>0.0</td>\n",
              "      <td>0.0</td>\n",
              "      <td>0.0</td>\n",
              "      <td>...</td>\n",
              "      <td>1135.0</td>\n",
              "      <td>1136.0</td>\n",
              "      <td>1139</td>\n",
              "      <td>1141</td>\n",
              "      <td>1143</td>\n",
              "      <td>1143</td>\n",
              "      <td>1145</td>\n",
              "      <td>1148</td>\n",
              "      <td>1148</td>\n",
              "      <td>120550</td>\n",
              "    </tr>\n",
              "    <tr>\n",
              "      <th>3</th>\n",
              "      <td>Ada</td>\n",
              "      <td>0.0</td>\n",
              "      <td>0.0</td>\n",
              "      <td>0.0</td>\n",
              "      <td>0.0</td>\n",
              "      <td>0.0</td>\n",
              "      <td>0.0</td>\n",
              "      <td>0.0</td>\n",
              "      <td>0.0</td>\n",
              "      <td>0.0</td>\n",
              "      <td>...</td>\n",
              "      <td>10779.0</td>\n",
              "      <td>10871.0</td>\n",
              "      <td>10944</td>\n",
              "      <td>11028</td>\n",
              "      <td>11080</td>\n",
              "      <td>11109</td>\n",
              "      <td>11176</td>\n",
              "      <td>11297</td>\n",
              "      <td>11374</td>\n",
              "      <td>558849</td>\n",
              "    </tr>\n",
              "    <tr>\n",
              "      <th>4</th>\n",
              "      <td>Adair</td>\n",
              "      <td>0.0</td>\n",
              "      <td>0.0</td>\n",
              "      <td>0.0</td>\n",
              "      <td>0.0</td>\n",
              "      <td>0.0</td>\n",
              "      <td>0.0</td>\n",
              "      <td>0.0</td>\n",
              "      <td>0.0</td>\n",
              "      <td>0.0</td>\n",
              "      <td>...</td>\n",
              "      <td>927.0</td>\n",
              "      <td>942.0</td>\n",
              "      <td>963</td>\n",
              "      <td>971</td>\n",
              "      <td>978</td>\n",
              "      <td>988</td>\n",
              "      <td>995</td>\n",
              "      <td>1020</td>\n",
              "      <td>1046</td>\n",
              "      <td>60164</td>\n",
              "    </tr>\n",
              "    <tr>\n",
              "      <th>...</th>\n",
              "      <td>...</td>\n",
              "      <td>...</td>\n",
              "      <td>...</td>\n",
              "      <td>...</td>\n",
              "      <td>...</td>\n",
              "      <td>...</td>\n",
              "      <td>...</td>\n",
              "      <td>...</td>\n",
              "      <td>...</td>\n",
              "      <td>...</td>\n",
              "      <td>...</td>\n",
              "      <td>...</td>\n",
              "      <td>...</td>\n",
              "      <td>...</td>\n",
              "      <td>...</td>\n",
              "      <td>...</td>\n",
              "      <td>...</td>\n",
              "      <td>...</td>\n",
              "      <td>...</td>\n",
              "      <td>...</td>\n",
              "      <td>...</td>\n",
              "    </tr>\n",
              "    <tr>\n",
              "      <th>1917</th>\n",
              "      <td>Yuma</td>\n",
              "      <td>0.0</td>\n",
              "      <td>0.0</td>\n",
              "      <td>0.0</td>\n",
              "      <td>0.0</td>\n",
              "      <td>0.0</td>\n",
              "      <td>0.0</td>\n",
              "      <td>0.0</td>\n",
              "      <td>0.0</td>\n",
              "      <td>0.0</td>\n",
              "      <td>...</td>\n",
              "      <td>12148.0</td>\n",
              "      <td>12166.0</td>\n",
              "      <td>12205</td>\n",
              "      <td>12228</td>\n",
              "      <td>12276</td>\n",
              "      <td>12293</td>\n",
              "      <td>12293</td>\n",
              "      <td>12320</td>\n",
              "      <td>12328</td>\n",
              "      <td>790100</td>\n",
              "    </tr>\n",
              "    <tr>\n",
              "      <th>1918</th>\n",
              "      <td>Zapata</td>\n",
              "      <td>0.0</td>\n",
              "      <td>0.0</td>\n",
              "      <td>0.0</td>\n",
              "      <td>0.0</td>\n",
              "      <td>0.0</td>\n",
              "      <td>0.0</td>\n",
              "      <td>0.0</td>\n",
              "      <td>0.0</td>\n",
              "      <td>0.0</td>\n",
              "      <td>...</td>\n",
              "      <td>247.0</td>\n",
              "      <td>247.0</td>\n",
              "      <td>247</td>\n",
              "      <td>263</td>\n",
              "      <td>272</td>\n",
              "      <td>272</td>\n",
              "      <td>276</td>\n",
              "      <td>281</td>\n",
              "      <td>281</td>\n",
              "      <td>11049</td>\n",
              "    </tr>\n",
              "    <tr>\n",
              "      <th>1919</th>\n",
              "      <td>Zavala</td>\n",
              "      <td>0.0</td>\n",
              "      <td>0.0</td>\n",
              "      <td>0.0</td>\n",
              "      <td>0.0</td>\n",
              "      <td>0.0</td>\n",
              "      <td>0.0</td>\n",
              "      <td>0.0</td>\n",
              "      <td>0.0</td>\n",
              "      <td>0.0</td>\n",
              "      <td>...</td>\n",
              "      <td>287.0</td>\n",
              "      <td>287.0</td>\n",
              "      <td>287</td>\n",
              "      <td>287</td>\n",
              "      <td>287</td>\n",
              "      <td>287</td>\n",
              "      <td>287</td>\n",
              "      <td>287</td>\n",
              "      <td>287</td>\n",
              "      <td>12950</td>\n",
              "    </tr>\n",
              "    <tr>\n",
              "      <th>1920</th>\n",
              "      <td>Ziebach</td>\n",
              "      <td>0.0</td>\n",
              "      <td>0.0</td>\n",
              "      <td>0.0</td>\n",
              "      <td>0.0</td>\n",
              "      <td>0.0</td>\n",
              "      <td>0.0</td>\n",
              "      <td>0.0</td>\n",
              "      <td>0.0</td>\n",
              "      <td>0.0</td>\n",
              "      <td>...</td>\n",
              "      <td>46.0</td>\n",
              "      <td>46.0</td>\n",
              "      <td>46</td>\n",
              "      <td>47</td>\n",
              "      <td>48</td>\n",
              "      <td>48</td>\n",
              "      <td>48</td>\n",
              "      <td>49</td>\n",
              "      <td>50</td>\n",
              "      <td>1332</td>\n",
              "    </tr>\n",
              "    <tr>\n",
              "      <th>1921</th>\n",
              "      <td>Grand Total</td>\n",
              "      <td>1.0</td>\n",
              "      <td>1.0</td>\n",
              "      <td>1.0</td>\n",
              "      <td>2.0</td>\n",
              "      <td>3.0</td>\n",
              "      <td>5.0</td>\n",
              "      <td>5.0</td>\n",
              "      <td>5.0</td>\n",
              "      <td>5.0</td>\n",
              "      <td>...</td>\n",
              "      <td>5793348.0</td>\n",
              "      <td>5838127.0</td>\n",
              "      <td>5883729</td>\n",
              "      <td>5930285</td>\n",
              "      <td>5974924</td>\n",
              "      <td>6008376</td>\n",
              "      <td>6044815</td>\n",
              "      <td>6088842</td>\n",
              "      <td>6128626</td>\n",
              "      <td>422054631</td>\n",
              "    </tr>\n",
              "  </tbody>\n",
              "</table>\n",
              "<p>1922 rows × 228 columns</p>\n",
              "</div>"
            ],
            "text/plain": [
              "          Country  21-Jan  22-Jan  23-Jan  24-Jan  25-Jan  26-Jan  27-Jan  \\\n",
              "0       Abbeville     0.0     0.0     0.0     0.0     0.0     0.0     0.0   \n",
              "1          Acadia     0.0     0.0     0.0     0.0     0.0     0.0     0.0   \n",
              "2        Accomack     0.0     0.0     0.0     0.0     0.0     0.0     0.0   \n",
              "3             Ada     0.0     0.0     0.0     0.0     0.0     0.0     0.0   \n",
              "4           Adair     0.0     0.0     0.0     0.0     0.0     0.0     0.0   \n",
              "...           ...     ...     ...     ...     ...     ...     ...     ...   \n",
              "1917         Yuma     0.0     0.0     0.0     0.0     0.0     0.0     0.0   \n",
              "1918       Zapata     0.0     0.0     0.0     0.0     0.0     0.0     0.0   \n",
              "1919       Zavala     0.0     0.0     0.0     0.0     0.0     0.0     0.0   \n",
              "1920      Ziebach     0.0     0.0     0.0     0.0     0.0     0.0     0.0   \n",
              "1921  Grand Total     1.0     1.0     1.0     2.0     3.0     5.0     5.0   \n",
              "\n",
              "      28-Jan  29-Jan  ...     25-Aug     26-Aug   27-Aug   28-Aug   29-Aug  \\\n",
              "0        0.0     0.0  ...      388.0      393.0      394      404      406   \n",
              "1        0.0     0.0  ...     2776.0     2775.0     2781     2799     2799   \n",
              "2        0.0     0.0  ...     1135.0     1136.0     1139     1141     1143   \n",
              "3        0.0     0.0  ...    10779.0    10871.0    10944    11028    11080   \n",
              "4        0.0     0.0  ...      927.0      942.0      963      971      978   \n",
              "...      ...     ...  ...        ...        ...      ...      ...      ...   \n",
              "1917     0.0     0.0  ...    12148.0    12166.0    12205    12228    12276   \n",
              "1918     0.0     0.0  ...      247.0      247.0      247      263      272   \n",
              "1919     0.0     0.0  ...      287.0      287.0      287      287      287   \n",
              "1920     0.0     0.0  ...       46.0       46.0       46       47       48   \n",
              "1921     5.0     5.0  ...  5793348.0  5838127.0  5883729  5930285  5974924   \n",
              "\n",
              "       30-Aug   31-Aug    1-Sep    2-Sep  Grand Total  \n",
              "0         415      418      434      439        21643  \n",
              "1        2808     2809     2817     2821       166284  \n",
              "2        1143     1145     1148     1148       120550  \n",
              "3       11109    11176    11297    11374       558849  \n",
              "4         988      995     1020     1046        60164  \n",
              "...       ...      ...      ...      ...          ...  \n",
              "1917    12293    12293    12320    12328       790100  \n",
              "1918      272      276      281      281        11049  \n",
              "1919      287      287      287      287        12950  \n",
              "1920       48       48       49       50         1332  \n",
              "1921  6008376  6044815  6088842  6128626    422054631  \n",
              "\n",
              "[1922 rows x 228 columns]"
            ]
          },
          "metadata": {
            "tags": []
          },
          "execution_count": 68
        }
      ]
    },
    {
      "cell_type": "markdown",
      "metadata": {
        "id": "Az7W37AMkH6l",
        "colab_type": "text"
      },
      "source": [
        "I loaded both data sets, but first I thought I'd take a look at the raw data. Ignoring date for a moment, I thought about creating some kind of summarization variable. I summarized by state.  "
      ]
    },
    {
      "cell_type": "code",
      "metadata": {
        "scrolled": true,
        "id": "hjXdsNfNkH6l",
        "colab_type": "code",
        "colab": {},
        "outputId": "9ecd5c1b-a272-4ad2-c6ea-769ba0d4094d"
      },
      "source": [
        "covid_state_tot = pd.DataFrame(covid_raw.groupby('state').mean())\n",
        "covid_state_tot.head()"
      ],
      "execution_count": null,
      "outputs": [
        {
          "output_type": "execute_result",
          "data": {
            "text/html": [
              "<div>\n",
              "<style scoped>\n",
              "    .dataframe tbody tr th:only-of-type {\n",
              "        vertical-align: middle;\n",
              "    }\n",
              "\n",
              "    .dataframe tbody tr th {\n",
              "        vertical-align: top;\n",
              "    }\n",
              "\n",
              "    .dataframe thead th {\n",
              "        text-align: right;\n",
              "    }\n",
              "</style>\n",
              "<table border=\"1\" class=\"dataframe\">\n",
              "  <thead>\n",
              "    <tr style=\"text-align: right;\">\n",
              "      <th></th>\n",
              "      <th>fips</th>\n",
              "      <th>cases</th>\n",
              "      <th>deaths</th>\n",
              "    </tr>\n",
              "    <tr>\n",
              "      <th>state</th>\n",
              "      <th></th>\n",
              "      <th></th>\n",
              "      <th></th>\n",
              "    </tr>\n",
              "  </thead>\n",
              "  <tbody>\n",
              "    <tr>\n",
              "      <th>Alabama</th>\n",
              "      <td>1067.287340</td>\n",
              "      <td>729.111234</td>\n",
              "      <td>14.767938</td>\n",
              "    </tr>\n",
              "    <tr>\n",
              "      <th>Alaska</th>\n",
              "      <td>2145.495693</td>\n",
              "      <td>98.924361</td>\n",
              "      <td>0.710094</td>\n",
              "    </tr>\n",
              "    <tr>\n",
              "      <th>Arizona</th>\n",
              "      <td>4013.940580</td>\n",
              "      <td>5385.775943</td>\n",
              "      <td>128.814363</td>\n",
              "    </tr>\n",
              "    <tr>\n",
              "      <th>Arkansas</th>\n",
              "      <td>5075.331883</td>\n",
              "      <td>323.185872</td>\n",
              "      <td>4.128409</td>\n",
              "    </tr>\n",
              "    <tr>\n",
              "      <th>California</th>\n",
              "      <td>6058.338749</td>\n",
              "      <td>4725.010949</td>\n",
              "      <td>101.673714</td>\n",
              "    </tr>\n",
              "  </tbody>\n",
              "</table>\n",
              "</div>"
            ],
            "text/plain": [
              "                   fips        cases      deaths\n",
              "state                                           \n",
              "Alabama     1067.287340   729.111234   14.767938\n",
              "Alaska      2145.495693    98.924361    0.710094\n",
              "Arizona     4013.940580  5385.775943  128.814363\n",
              "Arkansas    5075.331883   323.185872    4.128409\n",
              "California  6058.338749  4725.010949  101.673714"
            ]
          },
          "metadata": {
            "tags": []
          },
          "execution_count": 69
        }
      ]
    },
    {
      "cell_type": "markdown",
      "metadata": {
        "id": "Jb75e6hzkH6m",
        "colab_type": "text"
      },
      "source": [
        "It's interesting to see that the variance is not independent, that is it sems to increase as the scale of the two variables increase.  This likely does not have an impact on our dimension reduction questions, but good to note. There are some really bad states with bad mortality rates for the number of cases the have.  Guessing these are the early, hardest hit states like New York. "
      ]
    },
    {
      "cell_type": "markdown",
      "metadata": {
        "id": "5svZ4vIKkH6n",
        "colab_type": "text"
      },
      "source": [
        "I don't think this is the route I'm supposed to be taking, so I'd like to bring the conversation back to the pivoted data set.  I also want to add the States column back to the dataset. I'll do that by merging with the original dataset.  "
      ]
    },
    {
      "cell_type": "markdown",
      "metadata": {
        "id": "dWKCGHv3kH6n",
        "colab_type": "text"
      },
      "source": [
        "This is interesting, but I decided to take a look at the pre-formmated data provided with the homework next. \n",
        "\n",
        "Let's take a look at the data"
      ]
    },
    {
      "cell_type": "code",
      "metadata": {
        "id": "gJ4f28YzkH6n",
        "colab_type": "code",
        "colab": {}
      },
      "source": [
        "covid_final=pd.merge(covid_pivot,covid_raw.iloc[:,1:3],left_on='Country',right_on='county') #note county is misspelled\n",
        "covid_final=covid_final.iloc[:,1:]\n",
        "covid_final_norm = pd.DataFrame(preprocessing.normalize(covid_final.iloc[:,0:-3]))"
      ],
      "execution_count": null,
      "outputs": []
    },
    {
      "cell_type": "code",
      "metadata": {
        "scrolled": true,
        "id": "wFX-UylUkH6o",
        "colab_type": "code",
        "colab": {},
        "outputId": "991cf5f9-3d04-4815-a8ec-e8b704cff998"
      },
      "source": [
        "covid_final_norm=pd.concat([covid_final_norm,covid_final.iloc[:,227:229]],axis=1)\n",
        "covid_final_norm"
      ],
      "execution_count": null,
      "outputs": [
        {
          "output_type": "execute_result",
          "data": {
            "text/html": [
              "<div>\n",
              "<style scoped>\n",
              "    .dataframe tbody tr th:only-of-type {\n",
              "        vertical-align: middle;\n",
              "    }\n",
              "\n",
              "    .dataframe tbody tr th {\n",
              "        vertical-align: top;\n",
              "    }\n",
              "\n",
              "    .dataframe thead th {\n",
              "        text-align: right;\n",
              "    }\n",
              "</style>\n",
              "<table border=\"1\" class=\"dataframe\">\n",
              "  <thead>\n",
              "    <tr style=\"text-align: right;\">\n",
              "      <th></th>\n",
              "      <th>0</th>\n",
              "      <th>1</th>\n",
              "      <th>2</th>\n",
              "      <th>3</th>\n",
              "      <th>4</th>\n",
              "      <th>5</th>\n",
              "      <th>6</th>\n",
              "      <th>7</th>\n",
              "      <th>8</th>\n",
              "      <th>9</th>\n",
              "      <th>...</th>\n",
              "      <th>218</th>\n",
              "      <th>219</th>\n",
              "      <th>220</th>\n",
              "      <th>221</th>\n",
              "      <th>222</th>\n",
              "      <th>223</th>\n",
              "      <th>224</th>\n",
              "      <th>225</th>\n",
              "      <th>county</th>\n",
              "      <th>state</th>\n",
              "    </tr>\n",
              "  </thead>\n",
              "  <tbody>\n",
              "    <tr>\n",
              "      <th>0</th>\n",
              "      <td>0.0</td>\n",
              "      <td>0.0</td>\n",
              "      <td>0.0</td>\n",
              "      <td>0.0</td>\n",
              "      <td>0.0</td>\n",
              "      <td>0.0</td>\n",
              "      <td>0.0</td>\n",
              "      <td>0.0</td>\n",
              "      <td>0.0</td>\n",
              "      <td>0.0</td>\n",
              "      <td>...</td>\n",
              "      <td>0.162283</td>\n",
              "      <td>0.162696</td>\n",
              "      <td>0.166825</td>\n",
              "      <td>0.167651</td>\n",
              "      <td>0.171368</td>\n",
              "      <td>0.172606</td>\n",
              "      <td>0.179213</td>\n",
              "      <td>0.181278</td>\n",
              "      <td>Abbeville</td>\n",
              "      <td>South Carolina</td>\n",
              "    </tr>\n",
              "    <tr>\n",
              "      <th>1</th>\n",
              "      <td>0.0</td>\n",
              "      <td>0.0</td>\n",
              "      <td>0.0</td>\n",
              "      <td>0.0</td>\n",
              "      <td>0.0</td>\n",
              "      <td>0.0</td>\n",
              "      <td>0.0</td>\n",
              "      <td>0.0</td>\n",
              "      <td>0.0</td>\n",
              "      <td>0.0</td>\n",
              "      <td>...</td>\n",
              "      <td>0.162283</td>\n",
              "      <td>0.162696</td>\n",
              "      <td>0.166825</td>\n",
              "      <td>0.167651</td>\n",
              "      <td>0.171368</td>\n",
              "      <td>0.172606</td>\n",
              "      <td>0.179213</td>\n",
              "      <td>0.181278</td>\n",
              "      <td>Abbeville</td>\n",
              "      <td>South Carolina</td>\n",
              "    </tr>\n",
              "    <tr>\n",
              "      <th>2</th>\n",
              "      <td>0.0</td>\n",
              "      <td>0.0</td>\n",
              "      <td>0.0</td>\n",
              "      <td>0.0</td>\n",
              "      <td>0.0</td>\n",
              "      <td>0.0</td>\n",
              "      <td>0.0</td>\n",
              "      <td>0.0</td>\n",
              "      <td>0.0</td>\n",
              "      <td>0.0</td>\n",
              "      <td>...</td>\n",
              "      <td>0.162283</td>\n",
              "      <td>0.162696</td>\n",
              "      <td>0.166825</td>\n",
              "      <td>0.167651</td>\n",
              "      <td>0.171368</td>\n",
              "      <td>0.172606</td>\n",
              "      <td>0.179213</td>\n",
              "      <td>0.181278</td>\n",
              "      <td>Abbeville</td>\n",
              "      <td>South Carolina</td>\n",
              "    </tr>\n",
              "    <tr>\n",
              "      <th>3</th>\n",
              "      <td>0.0</td>\n",
              "      <td>0.0</td>\n",
              "      <td>0.0</td>\n",
              "      <td>0.0</td>\n",
              "      <td>0.0</td>\n",
              "      <td>0.0</td>\n",
              "      <td>0.0</td>\n",
              "      <td>0.0</td>\n",
              "      <td>0.0</td>\n",
              "      <td>0.0</td>\n",
              "      <td>...</td>\n",
              "      <td>0.162283</td>\n",
              "      <td>0.162696</td>\n",
              "      <td>0.166825</td>\n",
              "      <td>0.167651</td>\n",
              "      <td>0.171368</td>\n",
              "      <td>0.172606</td>\n",
              "      <td>0.179213</td>\n",
              "      <td>0.181278</td>\n",
              "      <td>Abbeville</td>\n",
              "      <td>South Carolina</td>\n",
              "    </tr>\n",
              "    <tr>\n",
              "      <th>4</th>\n",
              "      <td>0.0</td>\n",
              "      <td>0.0</td>\n",
              "      <td>0.0</td>\n",
              "      <td>0.0</td>\n",
              "      <td>0.0</td>\n",
              "      <td>0.0</td>\n",
              "      <td>0.0</td>\n",
              "      <td>0.0</td>\n",
              "      <td>0.0</td>\n",
              "      <td>0.0</td>\n",
              "      <td>...</td>\n",
              "      <td>0.162283</td>\n",
              "      <td>0.162696</td>\n",
              "      <td>0.166825</td>\n",
              "      <td>0.167651</td>\n",
              "      <td>0.171368</td>\n",
              "      <td>0.172606</td>\n",
              "      <td>0.179213</td>\n",
              "      <td>0.181278</td>\n",
              "      <td>Abbeville</td>\n",
              "      <td>South Carolina</td>\n",
              "    </tr>\n",
              "    <tr>\n",
              "      <th>...</th>\n",
              "      <td>...</td>\n",
              "      <td>...</td>\n",
              "      <td>...</td>\n",
              "      <td>...</td>\n",
              "      <td>...</td>\n",
              "      <td>...</td>\n",
              "      <td>...</td>\n",
              "      <td>...</td>\n",
              "      <td>...</td>\n",
              "      <td>...</td>\n",
              "      <td>...</td>\n",
              "      <td>...</td>\n",
              "      <td>...</td>\n",
              "      <td>...</td>\n",
              "      <td>...</td>\n",
              "      <td>...</td>\n",
              "      <td>...</td>\n",
              "      <td>...</td>\n",
              "      <td>...</td>\n",
              "      <td>...</td>\n",
              "      <td>...</td>\n",
              "    </tr>\n",
              "    <tr>\n",
              "      <th>537517</th>\n",
              "      <td>0.0</td>\n",
              "      <td>0.0</td>\n",
              "      <td>0.0</td>\n",
              "      <td>0.0</td>\n",
              "      <td>0.0</td>\n",
              "      <td>0.0</td>\n",
              "      <td>0.0</td>\n",
              "      <td>0.0</td>\n",
              "      <td>0.0</td>\n",
              "      <td>0.0</td>\n",
              "      <td>...</td>\n",
              "      <td>0.214574</td>\n",
              "      <td>0.214574</td>\n",
              "      <td>0.219239</td>\n",
              "      <td>0.223903</td>\n",
              "      <td>0.223903</td>\n",
              "      <td>0.223903</td>\n",
              "      <td>0.228568</td>\n",
              "      <td>0.233233</td>\n",
              "      <td>Ziebach</td>\n",
              "      <td>South Dakota</td>\n",
              "    </tr>\n",
              "    <tr>\n",
              "      <th>537518</th>\n",
              "      <td>0.0</td>\n",
              "      <td>0.0</td>\n",
              "      <td>0.0</td>\n",
              "      <td>0.0</td>\n",
              "      <td>0.0</td>\n",
              "      <td>0.0</td>\n",
              "      <td>0.0</td>\n",
              "      <td>0.0</td>\n",
              "      <td>0.0</td>\n",
              "      <td>0.0</td>\n",
              "      <td>...</td>\n",
              "      <td>0.214574</td>\n",
              "      <td>0.214574</td>\n",
              "      <td>0.219239</td>\n",
              "      <td>0.223903</td>\n",
              "      <td>0.223903</td>\n",
              "      <td>0.223903</td>\n",
              "      <td>0.228568</td>\n",
              "      <td>0.233233</td>\n",
              "      <td>Ziebach</td>\n",
              "      <td>South Dakota</td>\n",
              "    </tr>\n",
              "    <tr>\n",
              "      <th>537519</th>\n",
              "      <td>0.0</td>\n",
              "      <td>0.0</td>\n",
              "      <td>0.0</td>\n",
              "      <td>0.0</td>\n",
              "      <td>0.0</td>\n",
              "      <td>0.0</td>\n",
              "      <td>0.0</td>\n",
              "      <td>0.0</td>\n",
              "      <td>0.0</td>\n",
              "      <td>0.0</td>\n",
              "      <td>...</td>\n",
              "      <td>0.214574</td>\n",
              "      <td>0.214574</td>\n",
              "      <td>0.219239</td>\n",
              "      <td>0.223903</td>\n",
              "      <td>0.223903</td>\n",
              "      <td>0.223903</td>\n",
              "      <td>0.228568</td>\n",
              "      <td>0.233233</td>\n",
              "      <td>Ziebach</td>\n",
              "      <td>South Dakota</td>\n",
              "    </tr>\n",
              "    <tr>\n",
              "      <th>537520</th>\n",
              "      <td>0.0</td>\n",
              "      <td>0.0</td>\n",
              "      <td>0.0</td>\n",
              "      <td>0.0</td>\n",
              "      <td>0.0</td>\n",
              "      <td>0.0</td>\n",
              "      <td>0.0</td>\n",
              "      <td>0.0</td>\n",
              "      <td>0.0</td>\n",
              "      <td>0.0</td>\n",
              "      <td>...</td>\n",
              "      <td>0.214574</td>\n",
              "      <td>0.214574</td>\n",
              "      <td>0.219239</td>\n",
              "      <td>0.223903</td>\n",
              "      <td>0.223903</td>\n",
              "      <td>0.223903</td>\n",
              "      <td>0.228568</td>\n",
              "      <td>0.233233</td>\n",
              "      <td>Ziebach</td>\n",
              "      <td>South Dakota</td>\n",
              "    </tr>\n",
              "    <tr>\n",
              "      <th>537521</th>\n",
              "      <td>0.0</td>\n",
              "      <td>0.0</td>\n",
              "      <td>0.0</td>\n",
              "      <td>0.0</td>\n",
              "      <td>0.0</td>\n",
              "      <td>0.0</td>\n",
              "      <td>0.0</td>\n",
              "      <td>0.0</td>\n",
              "      <td>0.0</td>\n",
              "      <td>0.0</td>\n",
              "      <td>...</td>\n",
              "      <td>0.214574</td>\n",
              "      <td>0.214574</td>\n",
              "      <td>0.219239</td>\n",
              "      <td>0.223903</td>\n",
              "      <td>0.223903</td>\n",
              "      <td>0.223903</td>\n",
              "      <td>0.228568</td>\n",
              "      <td>0.233233</td>\n",
              "      <td>Ziebach</td>\n",
              "      <td>South Dakota</td>\n",
              "    </tr>\n",
              "  </tbody>\n",
              "</table>\n",
              "<p>537522 rows × 228 columns</p>\n",
              "</div>"
            ],
            "text/plain": [
              "          0    1    2    3    4    5    6    7    8    9  ...       218  \\\n",
              "0       0.0  0.0  0.0  0.0  0.0  0.0  0.0  0.0  0.0  0.0  ...  0.162283   \n",
              "1       0.0  0.0  0.0  0.0  0.0  0.0  0.0  0.0  0.0  0.0  ...  0.162283   \n",
              "2       0.0  0.0  0.0  0.0  0.0  0.0  0.0  0.0  0.0  0.0  ...  0.162283   \n",
              "3       0.0  0.0  0.0  0.0  0.0  0.0  0.0  0.0  0.0  0.0  ...  0.162283   \n",
              "4       0.0  0.0  0.0  0.0  0.0  0.0  0.0  0.0  0.0  0.0  ...  0.162283   \n",
              "...     ...  ...  ...  ...  ...  ...  ...  ...  ...  ...  ...       ...   \n",
              "537517  0.0  0.0  0.0  0.0  0.0  0.0  0.0  0.0  0.0  0.0  ...  0.214574   \n",
              "537518  0.0  0.0  0.0  0.0  0.0  0.0  0.0  0.0  0.0  0.0  ...  0.214574   \n",
              "537519  0.0  0.0  0.0  0.0  0.0  0.0  0.0  0.0  0.0  0.0  ...  0.214574   \n",
              "537520  0.0  0.0  0.0  0.0  0.0  0.0  0.0  0.0  0.0  0.0  ...  0.214574   \n",
              "537521  0.0  0.0  0.0  0.0  0.0  0.0  0.0  0.0  0.0  0.0  ...  0.214574   \n",
              "\n",
              "             219       220       221       222       223       224       225  \\\n",
              "0       0.162696  0.166825  0.167651  0.171368  0.172606  0.179213  0.181278   \n",
              "1       0.162696  0.166825  0.167651  0.171368  0.172606  0.179213  0.181278   \n",
              "2       0.162696  0.166825  0.167651  0.171368  0.172606  0.179213  0.181278   \n",
              "3       0.162696  0.166825  0.167651  0.171368  0.172606  0.179213  0.181278   \n",
              "4       0.162696  0.166825  0.167651  0.171368  0.172606  0.179213  0.181278   \n",
              "...          ...       ...       ...       ...       ...       ...       ...   \n",
              "537517  0.214574  0.219239  0.223903  0.223903  0.223903  0.228568  0.233233   \n",
              "537518  0.214574  0.219239  0.223903  0.223903  0.223903  0.228568  0.233233   \n",
              "537519  0.214574  0.219239  0.223903  0.223903  0.223903  0.228568  0.233233   \n",
              "537520  0.214574  0.219239  0.223903  0.223903  0.223903  0.228568  0.233233   \n",
              "537521  0.214574  0.219239  0.223903  0.223903  0.223903  0.228568  0.233233   \n",
              "\n",
              "           county           state  \n",
              "0       Abbeville  South Carolina  \n",
              "1       Abbeville  South Carolina  \n",
              "2       Abbeville  South Carolina  \n",
              "3       Abbeville  South Carolina  \n",
              "4       Abbeville  South Carolina  \n",
              "...           ...             ...  \n",
              "537517    Ziebach    South Dakota  \n",
              "537518    Ziebach    South Dakota  \n",
              "537519    Ziebach    South Dakota  \n",
              "537520    Ziebach    South Dakota  \n",
              "537521    Ziebach    South Dakota  \n",
              "\n",
              "[537522 rows x 228 columns]"
            ]
          },
          "metadata": {
            "tags": []
          },
          "execution_count": 132
        }
      ]
    },
    {
      "cell_type": "code",
      "metadata": {
        "id": "4hfaevI5kH6p",
        "colab_type": "code",
        "colab": {}
      },
      "source": [
        "covid_kmeans = KMeans(n_clusters=30).fit(covid_final_norm.iloc[:,0:-2])\n",
        "colors_covid_kmeans = covid_kmeans.predict(covid_final_norm.iloc[:,0:-2])"
      ],
      "execution_count": null,
      "outputs": []
    },
    {
      "cell_type": "markdown",
      "metadata": {
        "id": "Wsy-nD7HkH6r",
        "colab_type": "text"
      },
      "source": [
        "##### I set myself up for TWO options, one is to color by state or county, the other is to use the kmeans clustering for the coloring.  "
      ]
    },
    {
      "cell_type": "markdown",
      "metadata": {
        "id": "yteHmDzvkH6r",
        "colab_type": "text"
      },
      "source": [
        "### Problem 4b (5 points)\n",
        "\n",
        "Create a PCA plot for this data."
      ]
    },
    {
      "cell_type": "code",
      "metadata": {
        "id": "acHeCBGtkH6t",
        "colab_type": "code",
        "colab": {},
        "outputId": "2c3765fc-2168-4ed9-f4e0-023719016b68"
      },
      "source": [
        "pca_covid = sklearn.decomposition.PCA(n_components=4).fit(covid_final_norm.iloc[:,:-2])\n",
        "coef_PCA_covid = pca_covid.transform(covid_final_norm.iloc[:,:-2]) #coef_PCA = projected Data/ PC scores\n",
        "\n",
        "# we make a scree plot to see how many Principal Components to consider\n",
        "plt.figure(figsize=(24, 12))\n",
        "eig = pca_covid.explained_variance_\n",
        "# and calculate the variance explained by the PC analysis\n",
        "var_exp = pca_covid.explained_variance_ratio_.cumsum()*100.\n",
        "\n",
        "plt.plot(np.arange(1,len(eig)+1), eig, color='r')\n",
        "plt.title('Scree plot for the PCA')\n",
        "plt.xlabel('Number of principal components')\n",
        "plt.ylabel('Eigenvalues')\n",
        "plt.show()\n",
        "\n",
        "print ('The 1st Principal Component explains {:03.1f} % of the variance\\n'.format(var_exp[0]))\n",
        "print ('The 1st and 2nd Principal Components explain {:03.1f} % of the variance\\n'.format(var_exp[1]))\n",
        "print ('The 1st, 2nd and 3rd Principal Components explain {:03.1f} % of the variance\\n'.format(var_exp[2]))\n",
        "print ('The first four Principal Components explain {:03.1f} % of the variance\\n'.format(var_exp[3]))"
      ],
      "execution_count": null,
      "outputs": [
        {
          "output_type": "display_data",
          "data": {
            "image/png": "[encoded data removed]",
            "text/plain": [
              "<Figure size 1728x864 with 1 Axes>"
            ]
          },
          "metadata": {
            "tags": []
          }
        },
        {
          "output_type": "stream",
          "text": [
            "The 1st Principal Component explains 70.6 % of the variance\n",
            "\n",
            "The 1st and 2nd Principal Components explain 84.7 % of the variance\n",
            "\n",
            "The 1st, 2nd and 3rd Principal Components explain 90.2 % of the variance\n",
            "\n",
            "The first four Principal Components explain 93.2 % of the variance\n",
            "\n"
          ],
          "name": "stdout"
        }
      ]
    },
    {
      "cell_type": "markdown",
      "metadata": {
        "id": "bnYO57WHkH6u",
        "colab_type": "text"
      },
      "source": [
        "based on the above it looks like 2 Principal components is the magic number, I'll go ahead and compute PCA with n_components = 2. "
      ]
    },
    {
      "cell_type": "code",
      "metadata": {
        "id": "moLFCF2MkH6u",
        "colab_type": "code",
        "colab": {}
      },
      "source": [
        "pca_covid = sklearn.decomposition.PCA(n_components=2).fit(covid_final_norm.iloc[:,:-2])\n",
        "coef_PCA = pca_covid.transform(covid_final_norm.iloc[:,:-2])"
      ],
      "execution_count": null,
      "outputs": []
    },
    {
      "cell_type": "code",
      "metadata": {
        "id": "BZCP39SrkH6v",
        "colab_type": "code",
        "colab": {}
      },
      "source": [
        "plt.figure(figsize=(30,18))\n",
        "plt.scatter(coef_PCA[:,0], coef_PCA[:,1], s = 70, zorder=0, c=colors_covid_kmeans)\n",
        "for i in range(coef_PCA.shape[0]):\n",
        "    plt.text(coef_PCA[i,0]+.1,coef_PCA[i,1], covid_final_norm.iloc[i]['state'],  zorder=1, size=12, color=shade_black)  \n",
        "plt.ylabel('2nd Principal component' )\n",
        "plt.xlabel('1st Principal component' )\n",
        "plt.title('PC2 vs. PC1')\n",
        "plt.show()"
      ],
      "execution_count": null,
      "outputs": []
    },
    {
      "cell_type": "markdown",
      "metadata": {
        "id": "Bs-a2G4RkH6w",
        "colab_type": "text"
      },
      "source": [
        "### Problem 4c (5 points)\n",
        "\n",
        "Tune the t-SNE plot for this data set and display the results."
      ]
    },
    {
      "cell_type": "code",
      "metadata": {
        "id": "BnlEPyPjkH6x",
        "colab_type": "code",
        "colab": {}
      },
      "source": [
        "tsne = TSNE(n_components=2, random_state=0, perplexity=43, n_iter=250, learning_rate=100 )\n",
        "covid_tsne = tsne.fit_transform(covid_final_norm.iloc[:,:-1])"
      ],
      "execution_count": null,
      "outputs": []
    },
    {
      "cell_type": "code",
      "metadata": {
        "id": "AXlTO38kkH6y",
        "colab_type": "code",
        "colab": {}
      },
      "source": [
        "X_tsne_df = pd.DataFrame(covid_tsne)\n",
        "X_tsne_df.columns = ['_DIM_1_','_DIM_2_']\n",
        "X_tsne_df['Label'] = covid_final_norm.loc[:,'state']"
      ],
      "execution_count": null,
      "outputs": []
    },
    {
      "cell_type": "code",
      "metadata": {
        "id": "IiIYVI0-kH6z",
        "colab_type": "code",
        "colab": {}
      },
      "source": [
        "#https://towardsdatascience.com/an-introduction-to-t-sne-with-python-example-5a3a293108d1\n",
        "# Plot Digits t-SNE\n",
        "sns.set_context(\"notebook\", font_scale=1.1)\n",
        "sns.set_style(\"ticks\")\n",
        "\n",
        "sns.lmplot(x='_DIM_1_',\n",
        "           y='_DIM_2_',\n",
        "           data=X_tsne_df,\n",
        "           fit_reg=False,\n",
        "           legend=True,\n",
        "           height=12,\n",
        "           hue='Label')\n",
        "#            scatter_kws={\"s\":50, \"alpha\":1})\n",
        "\n",
        "plt.title('t-SNE Results: covid', weight='bold').set_fontsize('14')\n",
        "plt.xlabel('Dimension 1', weight='bold').set_fontsize('10')\n",
        "plt.ylabel('Dimension 2', weight='bold').set_fontsize('10')"
      ],
      "execution_count": null,
      "outputs": []
    },
    {
      "cell_type": "code",
      "metadata": {
        "id": "qSOl9TtFkH64",
        "colab_type": "code",
        "colab": {}
      },
      "source": [
        "tsne = TSNE(n_components=2, random_state=0, perplexity=100, n_iter=250, learning_rate=100 )\n",
        "covid_tsne = tsne.fit_transform(covid_final_norm.iloc[:,:-1])\n",
        "\n",
        "X_tsne_df = pd.DataFrame(covid_tsne)\n",
        "X_tsne_df.columns = ['_DIM_1_','_DIM_2_']\n",
        "X_tsne_df['Label'] = covid_final_norm.loc[:,'state']\n",
        "\n",
        "#https://towardsdatascience.com/an-introduction-to-t-sne-with-python-example-5a3a293108d1\n",
        "# Plot Digits t-SNE\n",
        "sns.set_context(\"notebook\", font_scale=1.1)\n",
        "sns.set_style(\"ticks\")\n",
        "\n",
        "sns.lmplot(x='_DIM_1_',\n",
        "           y='_DIM_2_',\n",
        "           data=X_tsne_df,\n",
        "           fit_reg=False,\n",
        "           legend=True,\n",
        "           height=12,\n",
        "           hue='Label')\n",
        "#            scatter_kws={\"s\":50, \"alpha\":1})\n",
        "\n",
        "plt.title('t-SNE Results: covid', weight='bold').set_fontsize('14')\n",
        "plt.xlabel('Dimension 1', weight='bold').set_fontsize('10')\n",
        "plt.ylabel('Dimension 2', weight='bold').set_fontsize('10')"
      ],
      "execution_count": null,
      "outputs": []
    },
    {
      "cell_type": "code",
      "metadata": {
        "id": "4Wf6OcPLkH65",
        "colab_type": "code",
        "colab": {}
      },
      "source": [
        "tsne = TSNE(n_components=2, random_state=0, perplexity=1200, n_iter=250, learning_rate=100 )\n",
        "covid_tsne = tsne.fit_transform(covid_final_norm.iloc[:,:-1])\n",
        "\n",
        "X_tsne_df = pd.DataFrame(covid_tsne)\n",
        "X_tsne_df.columns = ['_DIM_1_','_DIM_2_']\n",
        "X_tsne_df['Label'] = covid_final_norm.loc[:,'state']\n",
        "\n",
        "#https://towardsdatascience.com/an-introduction-to-t-sne-with-python-example-5a3a293108d1\n",
        "# Plot Digits t-SNE\n",
        "sns.set_context(\"notebook\", font_scale=1.1)\n",
        "sns.set_style(\"ticks\")\n",
        "\n",
        "sns.lmplot(x='_DIM_1_',\n",
        "           y='_DIM_2_',\n",
        "           data=X_tsne_df,\n",
        "           fit_reg=False,\n",
        "           legend=True,\n",
        "           height=12,\n",
        "           hue='Label')\n",
        "#            scatter_kws={\"s\":50, \"alpha\":1})\n",
        "\n",
        "plt.title('t-SNE Results: covid', weight='bold').set_fontsize('14')\n",
        "plt.xlabel('Dimension 1', weight='bold').set_fontsize('10')\n",
        "plt.ylabel('Dimension 2', weight='bold').set_fontsize('10')"
      ],
      "execution_count": null,
      "outputs": []
    },
    {
      "cell_type": "markdown",
      "metadata": {
        "id": "pBSl5gngkH66",
        "colab_type": "text"
      },
      "source": [
        "### Problem 4d (5 points)\n",
        "\n",
        "Show the default UMAP visualization of this data."
      ]
    },
    {
      "cell_type": "code",
      "metadata": {
        "id": "HjVHvmhqkH66",
        "colab_type": "code",
        "colab": {}
      },
      "source": [
        "covid_final_norm.iloc[:,:-1]"
      ],
      "execution_count": null,
      "outputs": []
    },
    {
      "cell_type": "code",
      "metadata": {
        "id": "xMrNFDoQkH67",
        "colab_type": "code",
        "colab": {}
      },
      "source": [
        "sns.set(style='white', context='poster')\n",
        "cmap = LinearSegmentedColormap.from_list('mycmap', ['red', 'green', 'blue', 'black', 'yellow', 'pink', 'brown', 'aquamarine', 'mediumpurple' ,'orange'])\n",
        "embedding = umap.UMAP(n_neighbors=2).fit_transform(covid_final_norm.iloc[:,:-1])\n",
        "\n"
      ],
      "execution_count": null,
      "outputs": []
    },
    {
      "cell_type": "code",
      "metadata": {
        "id": "9g2AgiUrkH68",
        "colab_type": "code",
        "colab": {}
      },
      "source": [
        "fig, ax = plt.subplots(1, figsize=(14, 10))\n",
        "plt.scatter(*embedding.T, s=0.3, c=target, cmap=cmap, alpha=1.0)\n",
        "plt.setp(ax, xticks=[], yticks=[])\n",
        "ax.spines['right'].set_visible(False)\n",
        "ax.spines['top'].set_visible(False)\n",
        "plt.setp(ax.spines.values(), color='grey')\n",
        "\n",
        "cbar = plt.colorbar(boundaries=np.arange(11)-0.5)\n",
        "cbar.set_ticks(np.arange(10))\n",
        "cbar.set_ticklabels(classes)\n",
        "plt.title('COVID dim-reduction via UMAP');"
      ],
      "execution_count": null,
      "outputs": []
    },
    {
      "cell_type": "markdown",
      "metadata": {
        "id": "3ShetiKHkH6-",
        "colab_type": "text"
      },
      "source": [
        "### Problem 4e (5 points)\n",
        "\n",
        "Tune the UMAP visualization for this data set."
      ]
    },
    {
      "cell_type": "code",
      "metadata": {
        "id": "OSTSo8-2kH6-",
        "colab_type": "code",
        "colab": {}
      },
      "source": [
        ""
      ],
      "execution_count": null,
      "outputs": []
    },
    {
      "cell_type": "markdown",
      "metadata": {
        "id": "jX-GqymTkH6_",
        "colab_type": "text"
      },
      "source": [
        "### Problem 4f (5 points)\n",
        "\n",
        "Which approach gives you the best results given your criteria in 4a?"
      ]
    },
    {
      "cell_type": "code",
      "metadata": {
        "id": "duG6VmXNkH7A",
        "colab_type": "code",
        "colab": {}
      },
      "source": [
        ""
      ],
      "execution_count": null,
      "outputs": []
    },
    {
      "cell_type": "markdown",
      "metadata": {
        "id": "1iKAF9EJkH7A",
        "colab_type": "text"
      },
      "source": [
        "## Problem 5 (10 points)\n",
        "\n",
        "### Problem 5a  How many hours did this homework take? (5 points)  \n",
        "\n",
        "This will not affect your grade (unless you don't answer it).  We will be monitoring time spent on homework to be sure that we are not over-burdening students."
      ]
    },
    {
      "cell_type": "markdown",
      "metadata": {
        "id": "n_Pj39FCkH7B",
        "colab_type": "text"
      },
      "source": [
        "##### 30 hours - I had to re-orient myself with a lot of stuff (e.g. my python skills were rusty as my last few classes were in R)"
      ]
    },
    {
      "cell_type": "markdown",
      "metadata": {
        "id": "YRjLU5r6kH7C",
        "colab_type": "text"
      },
      "source": [
        "### Problem 5b  Last step (5 points)\n",
        "\n",
        "Save this notebook as LastnameFirstnameHW1.ipynb such as MuskElonHW1.ipynb.   Create a pdf of this notebook named similarly.  Submit both the python notebook and the pdf version to the Canvas dropbox.  We require both versions."
      ]
    },
    {
      "cell_type": "code",
      "metadata": {
        "id": "vC8YyAWukH7E",
        "colab_type": "code",
        "colab": {}
      },
      "source": [
        ""
      ],
      "execution_count": null,
      "outputs": []
    }
  ]
}